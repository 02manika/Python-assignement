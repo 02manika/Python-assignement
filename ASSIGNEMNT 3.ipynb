{
 "cells": [
  {
   "cell_type": "code",
   "execution_count": 1,
   "id": "a69b9315-e734-4d86-aa1c-dac3cb3a698b",
   "metadata": {},
   "outputs": [
    {
     "name": "stdout",
     "output_type": "stream",
     "text": [
      "0\n",
      "1\n",
      "2\n",
      "3\n",
      "4\n",
      "5\n",
      "6\n",
      "7\n",
      "8\n",
      "9\n"
     ]
    }
   ],
   "source": [
    "# for loop is used when number of iterations are known \n",
    "for i in range(0,10):\n",
    "    print(i)"
   ]
  },
  {
   "cell_type": "code",
   "execution_count": 2,
   "id": "a1384ea2-3ded-4920-b22e-37c4f863aeae",
   "metadata": {},
   "outputs": [
    {
     "name": "stdout",
     "output_type": "stream",
     "text": [
      "9\n",
      "8\n",
      "7\n",
      "6\n",
      "5\n",
      "4\n",
      "3\n",
      "2\n",
      "1\n"
     ]
    }
   ],
   "source": [
    "# while loop is used when numer of iterations are not defined and is executed until condition becomes false \n",
    "i=10\n",
    "while i>1:\n",
    "    i-=1\n",
    "    print(i)"
   ]
  },
  {
   "cell_type": "code",
   "execution_count": 3,
   "id": "2bc020f1-0bd4-4fcd-a205-ce22519a3d08",
   "metadata": {},
   "outputs": [
    {
     "data": {
      "text/plain": [
       "55"
      ]
     },
     "execution_count": 3,
     "metadata": {},
     "output_type": "execute_result"
    }
   ],
   "source": [
    "result=0            #SUM OF FIRST 10 NATURAL NUMBERS USING FOR LOOP\n",
    "for i in range(1,11):\n",
    "    result=result+i\n",
    "result"
   ]
  },
  {
   "cell_type": "code",
   "execution_count": 5,
   "id": "dfdc9a02-adcb-46f9-bee1-1aa032714bcb",
   "metadata": {},
   "outputs": [
    {
     "data": {
      "text/plain": [
       "3628800"
      ]
     },
     "execution_count": 5,
     "metadata": {},
     "output_type": "execute_result"
    }
   ],
   "source": [
    "product=1              #PRODUCT OF FIRST 10 NATURAL NUMBERS USING FOR LOOP\n",
    "for i in range(1,11):\n",
    "    product=product*i\n",
    "product"
   ]
  },
  {
   "cell_type": "code",
   "execution_count": 6,
   "id": "88de121c-d475-4119-b914-767bb7748d5a",
   "metadata": {},
   "outputs": [
    {
     "name": "stdout",
     "output_type": "stream",
     "text": [
      "55\n"
     ]
    }
   ],
   "source": [
    "i=1          #SUM OF FIRST 10 NATURAL NUMBERS USING WHILE LOOP\n",
    "result=0\n",
    "while i<=10:\n",
    "    result=result+i\n",
    "    i+=1\n",
    "print(result)"
   ]
  },
  {
   "cell_type": "code",
   "execution_count": 7,
   "id": "c4866051-bd79-4f96-82ac-8360d07edb08",
   "metadata": {},
   "outputs": [
    {
     "name": "stdout",
     "output_type": "stream",
     "text": [
      "3628800\n"
     ]
    }
   ],
   "source": [
    "i=1          #PRODUCT OF FIRST 10 NATURAL NUMBERS USING WHILE LOOP\n",
    "result=1\n",
    "while i<=10:\n",
    "    result=result*i\n",
    "    i+=1\n",
    "print(result)"
   ]
  },
  {
   "cell_type": "code",
   "execution_count": 1,
   "id": "a782e743-b8ab-4090-98e0-8e4a8964f6ad",
   "metadata": {},
   "outputs": [
    {
     "name": "stdin",
     "output_type": "stream",
     "text": [
      "Enter the units of electricity:  310\n"
     ]
    },
    {
     "name": "stdout",
     "output_type": "stream",
     "text": [
      "2250\n"
     ]
    }
   ],
   "source": [
    "result=0\n",
    "units=int(input(\"Enter the units of electricity: \"))\n",
    "\n",
    "if units<=100:\n",
    "    result= units*4.5\n",
    "    \n",
    "elif units<=200:\n",
    "    result=(100*4.5)+(units-100)*6\n",
    "    \n",
    "elif units<=300:\n",
    "    result=(100*4.5)+(100*6)+(units-200)*10\n",
    "\n",
    "else:\n",
    "    result=(100*4.5)+(100*6)+(100*10)+(units-300)*20\n",
    "    \n",
    "print(int(result))"
   ]
  },
  {
   "cell_type": "code",
   "execution_count": 4,
   "id": "91f70a52-1fec-4038-8b13-f1577829a03d",
   "metadata": {},
   "outputs": [],
   "source": [
    "m=1             #LIST USING FOR LOOP\n",
    "l1=[]\n",
    "for i in range(1,101,1):\n",
    "    m=i*3\n",
    "    if m%4==0 or m%5==0:\n",
    "        l1.append(m)\n"
   ]
  },
  {
   "cell_type": "code",
   "execution_count": 5,
   "id": "c2d7cb8a-c348-4455-8b45-ae393aa08bbc",
   "metadata": {},
   "outputs": [
    {
     "data": {
      "text/plain": [
       "[12,\n",
       " 15,\n",
       " 24,\n",
       " 30,\n",
       " 36,\n",
       " 45,\n",
       " 48,\n",
       " 60,\n",
       " 72,\n",
       " 75,\n",
       " 84,\n",
       " 90,\n",
       " 96,\n",
       " 105,\n",
       " 108,\n",
       " 120,\n",
       " 132,\n",
       " 135,\n",
       " 144,\n",
       " 150,\n",
       " 156,\n",
       " 165,\n",
       " 168,\n",
       " 180,\n",
       " 192,\n",
       " 195,\n",
       " 204,\n",
       " 210,\n",
       " 216,\n",
       " 225,\n",
       " 228,\n",
       " 240,\n",
       " 252,\n",
       " 255,\n",
       " 264,\n",
       " 270,\n",
       " 276,\n",
       " 285,\n",
       " 288,\n",
       " 300]"
      ]
     },
     "execution_count": 5,
     "metadata": {},
     "output_type": "execute_result"
    }
   ],
   "source": [
    "l1"
   ]
  },
  {
   "cell_type": "code",
   "execution_count": 1,
   "id": "fe35df7a-f449-4150-9dbc-6b9285b4d487",
   "metadata": {},
   "outputs": [],
   "source": [
    "m=1              #LIST USING WHILE LOOP\n",
    "l1=[]\n",
    "i=1\n",
    "while i<=100:\n",
    "    m=i*3\n",
    "    i+=1\n",
    "    if m%4==0 or m%5==0:\n",
    "        l1.append(m)"
   ]
  },
  {
   "cell_type": "code",
   "execution_count": 2,
   "id": "2dc2f54d-45b7-419b-b98e-33d03aa25d36",
   "metadata": {},
   "outputs": [
    {
     "data": {
      "text/plain": [
       "[12,\n",
       " 15,\n",
       " 24,\n",
       " 30,\n",
       " 36,\n",
       " 45,\n",
       " 48,\n",
       " 60,\n",
       " 72,\n",
       " 75,\n",
       " 84,\n",
       " 90,\n",
       " 96,\n",
       " 105,\n",
       " 108,\n",
       " 120,\n",
       " 132,\n",
       " 135,\n",
       " 144,\n",
       " 150,\n",
       " 156,\n",
       " 165,\n",
       " 168,\n",
       " 180,\n",
       " 192,\n",
       " 195,\n",
       " 204,\n",
       " 210,\n",
       " 216,\n",
       " 225,\n",
       " 228,\n",
       " 240,\n",
       " 252,\n",
       " 255,\n",
       " 264,\n",
       " 270,\n",
       " 276,\n",
       " 285,\n",
       " 288,\n",
       " 300]"
      ]
     },
     "execution_count": 2,
     "metadata": {},
     "output_type": "execute_result"
    }
   ],
   "source": [
    "l1"
   ]
  },
  {
   "cell_type": "code",
   "execution_count": 3,
   "id": "028ac509-2425-41a8-a43e-82e94146cb97",
   "metadata": {},
   "outputs": [
    {
     "name": "stdout",
     "output_type": "stream",
     "text": [
      "I\n",
      " \n",
      "w\n",
      "a\n",
      "n\n",
      "t\n",
      " \n",
      "t\n",
      "o\n",
      " \n",
      "b\n",
      "e\n",
      "c\n",
      "o\n",
      "m\n",
      "e\n",
      " \n",
      "a\n",
      " \n",
      "d\n",
      "a\n",
      "t\n",
      "a\n",
      " \n",
      "s\n",
      "c\n",
      "i\n",
      "e\n",
      "n\n",
      "t\n",
      "i\n",
      "s\n",
      "t\n"
     ]
    }
   ],
   "source": [
    "string=\"I want to become a data scientist\"\n",
    "count=0\n",
    "for i in string:\n",
    "    if i=='a' or i=='e' or i=='i' or i=='o' or i=='u':\n",
    "        count+=1\n",
    "    else:\n",
    "        "
   ]
  },
  {
   "cell_type": "code",
   "execution_count": null,
   "id": "47ff239d-d45e-484a-aade-7b0d4bfa6d53",
   "metadata": {},
   "outputs": [],
   "source": []
  }
 ],
 "metadata": {
  "kernelspec": {
   "display_name": "Python 3 (ipykernel)",
   "language": "python",
   "name": "python3"
  },
  "language_info": {
   "codemirror_mode": {
    "name": "ipython",
    "version": 3
   },
   "file_extension": ".py",
   "mimetype": "text/x-python",
   "name": "python",
   "nbconvert_exporter": "python",
   "pygments_lexer": "ipython3",
   "version": "3.10.6"
  }
 },
 "nbformat": 4,
 "nbformat_minor": 5
}
