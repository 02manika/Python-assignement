{
 "cells": [
  {
   "cell_type": "code",
   "execution_count": 42,
   "id": "897f49ba-5fd5-44d7-901b-3a760c27e240",
   "metadata": {},
   "outputs": [],
   "source": [
    " \"\"\" Create a function which will take a list as an argument and return the product of all the numbers \n",
    "after creating a flat list.\n",
    "Use the below-given list as an argument for your function.\n",
    "list1 = [1,2,3,4, [44,55,66, True], False, (34,56,78,89,34), {1,2,3,3,2,1}, {1:34, \"key2\": [55, 67, 78, 89], 4: (45, \n",
    "22, 61, 34)}, [56, 'data science'], 'Machine Learning']\n",
    "Note: you must extract numeric keys and values of the dictionary also \"\"\"\n",
    "\n",
    "list1 = [1,2,3,4, [44,55,66, True], False, (34,56,78,89,34), {1,2,3,3,2,1}, {1:34, \"key2\": [55, 67, 78, 89], 4: (45, \n",
    "22, 61, 34)}, [56, 'data science'], 'Machine Learning']\n",
    "\n",
    "def flat_list(m):\n",
    "    flat = []\n",
    "    for i in m:\n",
    "        if type(i)==int or type(i)==str or type(i)==bool:\n",
    "            flat.append(i)\n",
    "        elif type(i)==list or type(i)==set or type(i)==tuple:\n",
    "            for j in i:\n",
    "                flat.append(j)\n",
    "        elif type(i)==dict:\n",
    "            for k in i.items():\n",
    "                flat.append(k[0])\n",
    "                if type(k[1])==int or type(k[1]) ==str or type(k[1])==bool:\n",
    "                    flat.append(k[1])\n",
    "                else:\n",
    "                    for l in k[1]:\n",
    "                        flat.append(l)\n",
    "    n_flat=[]\n",
    "    for i in flat:\n",
    "        if type(i)==int:\n",
    "            n_flat.append(i)\n",
    "    product=1\n",
    "    for i in n_flat:\n",
    "        product=product*i\n",
    "    return product"
   ]
  },
  {
   "cell_type": "code",
   "execution_count": 11,
   "id": "c6d62d7a-db7e-484c-8ab1-83a9ed841929",
   "metadata": {},
   "outputs": [],
   "source": [
    "\"\"\" Write a python program for encrypting a message sent to you by your friend. The logic of encryption \n",
    "should be such that, for a the output should be z. For b, the output should be y. For c, the output should \n",
    "be x respectively. Also, the whitespace should be replaced with a dollar sign. Keep the punctuation \n",
    "marks unchanged.\n",
    "Input Sentence: I want to become a Data Scientist.\n",
    "Encrypt the above input sentence using the program you just created.\n",
    "Note: Convert the given input sentence into lowercase before encrypting. The final output should be \n",
    "lowercase. \"\"\"\n",
    "\n",
    "def encrypt(x):\n",
    "    encrypted_msg = \"\" \n",
    "    alphabet = ['a','b','c','d','e','f','g','h','i','j','k','l','m','n','o','p','q','r','s','t','u','v','w','x','y','z']\n",
    "    reverse_alphabet = alphabet[::-1]\n",
    "    for i in x:\n",
    "        if i == ' ':\n",
    "            encrypted_msg += '$'\n",
    "        elif i == \".\" or i == \"!\" or i == \",\" or i == \"?\":\n",
    "            encrypted_msg += i\n",
    "        else:\n",
    "            n = alphabet.index(i.lower())\n",
    "            encrypted_msg += reverse_alphabet[n]\n",
    "    return encrypted_msg"
   ]
  },
  {
   "cell_type": "code",
   "execution_count": 9,
   "id": "ab55f58c-eaec-4bd6-ab46-679cd2fd14ff",
   "metadata": {},
   "outputs": [
    {
     "data": {
      "text/plain": [
       "'r$dzmg$gl$yvxlnv$z$wzgz$hxrvmgrhg'"
      ]
     },
     "execution_count": 9,
     "metadata": {},
     "output_type": "execute_result"
    }
   ],
   "source": [
    "encrypt(\"I want to become a Data Scientist\")"
   ]
  }
 ],
 "metadata": {
  "kernelspec": {
   "display_name": "Python 3 (ipykernel)",
   "language": "python",
   "name": "python3"
  },
  "language_info": {
   "codemirror_mode": {
    "name": "ipython",
    "version": 3
   },
   "file_extension": ".py",
   "mimetype": "text/x-python",
   "name": "python",
   "nbconvert_exporter": "python",
   "pygments_lexer": "ipython3",
   "version": "3.10.6"
  }
 },
 "nbformat": 4,
 "nbformat_minor": 5
}
