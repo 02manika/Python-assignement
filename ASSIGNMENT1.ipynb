{
 "cells": [
  {
   "cell_type": "code",
   "execution_count": null,
   "id": "59b58dad-c649-4a12-890e-9f8c81ba0704",
   "metadata": {},
   "outputs": [],
   "source": [
    "1. GUIDO VAN ROSSUM\n",
    "2. Object oriented programming\n",
    "3. Yes\n",
    "4. .py\n",
    "5. Interpreted\n",
    "6. Indentation\n",
    "7. #\n",
    "8. python_version()\n",
    "9. lambda\n",
    "10. Preferred installer programmer\n",
    "11. type() , list() ,max()\n",
    "12. 79 char\n",
    "13. Used in data science\n",
    "    Built in functions\n",
    "    Libraries\n",
    "14. There is private heap space where all python obejcts an ds are located.\n",
    "15. \n",
    "16. Yes"
   ]
  }
 ],
 "metadata": {
  "kernelspec": {
   "display_name": "Python 3 (ipykernel)",
   "language": "python",
   "name": "python3"
  },
  "language_info": {
   "codemirror_mode": {
    "name": "ipython",
    "version": 3
   },
   "file_extension": ".py",
   "mimetype": "text/x-python",
   "name": "python",
   "nbconvert_exporter": "python",
   "pygments_lexer": "ipython3",
   "version": "3.10.8"
  }
 },
 "nbformat": 4,
 "nbformat_minor": 5
}
