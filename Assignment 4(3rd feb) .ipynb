{
 "cells": [
  {
   "cell_type": "code",
   "execution_count": null,
   "id": "86b28abe-1402-4295-affc-859fa80e8009",
   "metadata": {},
   "outputs": [],
   "source": [
    "# Which keyword is used to create a function?\n",
    "def "
   ]
  },
  {
   "cell_type": "code",
   "execution_count": 1,
   "id": "a3fa655b-436d-4a0c-ae61-0a65b6dc948e",
   "metadata": {},
   "outputs": [],
   "source": [
    "# Create a function to return a list of odd numbers in the range of 1 to 25.\n",
    "l1=[]\n",
    "def odd():\n",
    "    for i in range(1,26):\n",
    "        if i%2!=0:\n",
    "            l1.append(i)\n",
    "    return(l1)  "
   ]
  },
  {
   "cell_type": "code",
   "execution_count": 2,
   "id": "7af37879-704f-4437-8e38-daeed61cc733",
   "metadata": {},
   "outputs": [
    {
     "data": {
      "text/plain": [
       "[1, 3, 5, 7, 9, 11, 13, 15, 17, 19, 21, 23, 25]"
      ]
     },
     "execution_count": 2,
     "metadata": {},
     "output_type": "execute_result"
    }
   ],
   "source": [
    "odd()"
   ]
  },
  {
   "cell_type": "code",
   "execution_count": null,
   "id": "1e34658d-a259-46a2-9cf3-1a740ea78d31",
   "metadata": {},
   "outputs": [],
   "source": [
    "# Why *args and **kwargs is used in some functions?\n",
    "*args is used to take multiple arguments as input.\n",
    "**kwargs is also used to take multiple arguments , also the arguments passed in this case are of dictionary type."
   ]
  },
  {
   "cell_type": "code",
   "execution_count": 9,
   "id": "de23d496-0eb3-4715-8b02-8d4b918569e4",
   "metadata": {},
   "outputs": [],
   "source": [
    "# Create a function each for *args and **kwargs to demonstrate their use.\n",
    "\n",
    "def test1(*args):\n",
    "    sum=0\n",
    "    for i in args:\n",
    "        sum=sum+i\n",
    "    return sum\n",
    "def test2(**kwargs):\n",
    "    return kwargs"
   ]
  },
  {
   "cell_type": "code",
   "execution_count": 10,
   "id": "56916ca2-809b-4b4e-ae90-9f78c5310f3c",
   "metadata": {},
   "outputs": [
    {
     "data": {
      "text/plain": [
       "22"
      ]
     },
     "execution_count": 10,
     "metadata": {},
     "output_type": "execute_result"
    }
   ],
   "source": [
    "test1(4,5,6,7)"
   ]
  },
  {
   "cell_type": "code",
   "execution_count": 12,
   "id": "8d8f7f15-6339-4a4e-b5ff-06091c33f73e",
   "metadata": {},
   "outputs": [
    {
     "data": {
      "text/plain": [
       "{'mani': 234, 'agg': 345, 'abc': 4}"
      ]
     },
     "execution_count": 12,
     "metadata": {},
     "output_type": "execute_result"
    }
   ],
   "source": [
    "test2(mani=234,agg=345,abc=4)"
   ]
  },
  {
   "cell_type": "code",
   "execution_count": null,
   "id": "ac0b5a6f-ed7a-4794-9669-cb484708ff85",
   "metadata": {},
   "outputs": [],
   "source": [
    " # What is an iterator in python? Name the method used to initialise the iterator object and the method used for iteration. \n",
    "    Iterator is an object that we use to traverse through all the values.\n",
    "    iter() is used to initialise the iterator object and \n",
    "    next() i used for iteration."
   ]
  },
  {
   "cell_type": "code",
   "execution_count": 29,
   "id": "9a72c27d-c639-4e39-aeea-6cdea5dbbbee",
   "metadata": {},
   "outputs": [
    {
     "name": "stdout",
     "output_type": "stream",
     "text": [
      "2\n",
      "4\n",
      "6\n",
      "8\n",
      "10\n"
     ]
    }
   ],
   "source": [
    "# Use these methods to print the first five elements of the given list [2, 4, 6, 8, 10, 12, 14,16, 18, 20].\n",
    "l=[2, 4, 6, 8, 10, 12, 14, 16, 18, 20]\n",
    "iter_list=iter(l)\n",
    "i=0\n",
    "while i<5:\n",
    "    print(next(iter_list))\n",
    "    i+=1"
   ]
  },
  {
   "cell_type": "code",
   "execution_count": null,
   "id": "7576ded0-399b-418c-8c29-bef0732674dc",
   "metadata": {},
   "outputs": [],
   "source": [
    "# What is a generator function in python?\n",
    "Generator function returns the value in series , or one after another . It saves the memory consumption."
   ]
  },
  {
   "cell_type": "code",
   "execution_count": null,
   "id": "58c62370-b181-4a70-88b3-ef82d9e9b8a0",
   "metadata": {},
   "outputs": [],
   "source": [
    "# Why yield keyword is used? \n",
    "It is used to create the generator function."
   ]
  },
  {
   "cell_type": "code",
   "execution_count": 9,
   "id": "65d537c4-38a5-47c4-b092-dfb721c3ccde",
   "metadata": {},
   "outputs": [
    {
     "name": "stdout",
     "output_type": "stream",
     "text": [
      "0\n",
      "1\n",
      "1\n",
      "2\n",
      "3\n"
     ]
    }
   ],
   "source": [
    "# Example of generator function\n",
    "def test_fib(n):\n",
    "    a,b=0,1\n",
    "    for i in range(n):\n",
    "        yield a           # generator function\n",
    "        a,b=b,a+b\n",
    "test_fib(5)\n",
    "for i in test_fib(5):\n",
    "    print(i)"
   ]
  },
  {
   "cell_type": "code",
   "execution_count": 74,
   "id": "c140c84c-2719-49ff-864e-966d8da9de88",
   "metadata": {},
   "outputs": [],
   "source": [
    "# Create a generator function for prime numbers less than 1000. Use the next() method to print the first 20 prime numbers.\n",
    "def prime(n):\n",
    "    for i in range(2,n):\n",
    "        for j in range(2,n):\n",
    "            if i%j==0:\n",
    "                break\n",
    "        if i==j:\n",
    "            yield i"
   ]
  },
  {
   "cell_type": "code",
   "execution_count": 75,
   "id": "0b6c98d7-88d6-45bc-9245-5f1dad52313a",
   "metadata": {},
   "outputs": [
    {
     "data": {
      "text/plain": [
       "<generator object prime at 0x7f379daab1b0>"
      ]
     },
     "execution_count": 75,
     "metadata": {},
     "output_type": "execute_result"
    }
   ],
   "source": [
    "prime(1000)"
   ]
  },
  {
   "cell_type": "code",
   "execution_count": 77,
   "id": "0ef4247d-3464-44b1-9bf7-83962b8fcf77",
   "metadata": {},
   "outputs": [],
   "source": [
    "l1=[]\n",
    "for i in prime(1000):\n",
    "    #print(i)\n",
    "    l1.append(i)"
   ]
  },
  {
   "cell_type": "code",
   "execution_count": 78,
   "id": "3143de81-f788-49e8-88ba-a2ec791bdf71",
   "metadata": {},
   "outputs": [
    {
     "name": "stdout",
     "output_type": "stream",
     "text": [
      "2\n",
      "3\n",
      "5\n",
      "7\n",
      "11\n",
      "13\n",
      "17\n",
      "19\n",
      "23\n",
      "29\n",
      "31\n",
      "37\n",
      "41\n",
      "43\n",
      "47\n",
      "53\n",
      "59\n",
      "61\n",
      "67\n",
      "71\n"
     ]
    }
   ],
   "source": [
    "iter_prime=iter(l1)\n",
    "j=0\n",
    "while j<20:\n",
    "    print(next(iter_prime))\n",
    "    j+=1"
   ]
  },
  {
   "cell_type": "code",
   "execution_count": 80,
   "id": "6a47acda-c8ea-49a4-bdfa-9ee2556702e6",
   "metadata": {},
   "outputs": [
    {
     "name": "stdout",
     "output_type": "stream",
     "text": [
      "0\n",
      "1\n",
      "1\n",
      "2\n",
      "3\n",
      "5\n",
      "8\n",
      "13\n",
      "21\n",
      "34\n"
     ]
    }
   ],
   "source": [
    " # Write a python program to print the first 10 Fibonacci numbers using a while loop.\n",
    "a,b=0,1\n",
    "i=1\n",
    "while i<=10:\n",
    "    print(a)\n",
    "    c=a+b\n",
    "    a=b\n",
    "    b=c\n",
    "    i=i+1"
   ]
  },
  {
   "cell_type": "code",
   "execution_count": 81,
   "id": "55b78414-3b59-422a-9afb-a7929b7d3d55",
   "metadata": {},
   "outputs": [
    {
     "data": {
      "text/plain": [
       "['p', 'w', 's', 'k', 'i', 'l', 'l', 's']"
      ]
     },
     "execution_count": 81,
     "metadata": {},
     "output_type": "execute_result"
    }
   ],
   "source": [
    "\"\"\" Write a List Comprehension to iterate through the given string: ‘pwskills’.\n",
    "\n",
    "Expected output: ['p', 'w', 's', 'k', 'i', 'l', 'l', 's']\"\"\"\n",
    "\n",
    "m=\"pwskills\"\n",
    "[i for i in m]"
   ]
  },
  {
   "cell_type": "code",
   "execution_count": 87,
   "id": "71e135c7-4bfe-4b18-a8d1-4c0653398e94",
   "metadata": {},
   "outputs": [
    {
     "name": "stdin",
     "output_type": "stream",
     "text": [
      "Enter any number: 357\n"
     ]
    },
    {
     "name": "stdout",
     "output_type": "stream",
     "text": [
      "Not a palindrome\n"
     ]
    }
   ],
   "source": [
    " # Write a python program to check whether a given number is Palindrome or not using a while loop.\n",
    "    \n",
    "n=int(input(\"Enter any number:\"))\n",
    "temp=n\n",
    "rev,a=0,0\n",
    "while n>0:\n",
    "    a=n%10\n",
    "    rev=rev*10+a\n",
    "    n=n//10\n",
    "if(temp==rev):\n",
    "    print(\"The number is palindrome\")\n",
    "else:\n",
    "    print(\"Not a palindrome\")"
   ]
  },
  {
   "cell_type": "code",
   "execution_count": 85,
   "id": "3cbdb356-a680-4fae-b5b5-86143511c88b",
   "metadata": {},
   "outputs": [
    {
     "ename": "TypeError",
     "evalue": "'list' object is not callable",
     "output_type": "error",
     "traceback": [
      "\u001b[0;31m---------------------------------------------------------------------------\u001b[0m",
      "\u001b[0;31mTypeError\u001b[0m                                 Traceback (most recent call last)",
      "Cell \u001b[0;32mIn [85], line 3\u001b[0m\n\u001b[1;32m      1\u001b[0m \u001b[38;5;66;03m# Write a code to print odd numbers from 1 to 100 using list comprehension.\u001b[39;00m\n\u001b[1;32m      2\u001b[0m l1\u001b[38;5;241m=\u001b[39m[]\n\u001b[0;32m----> 3\u001b[0m \u001b[43ml1\u001b[49m\u001b[43m(\u001b[49m\u001b[43mi\u001b[49m\u001b[43m \u001b[49m\u001b[38;5;28;43;01mfor\u001b[39;49;00m\u001b[43m \u001b[49m\u001b[43mi\u001b[49m\u001b[43m \u001b[49m\u001b[38;5;129;43;01min\u001b[39;49;00m\u001b[43m \u001b[49m\u001b[38;5;28;43mrange\u001b[39;49m\u001b[43m(\u001b[49m\u001b[38;5;241;43m1\u001b[39;49m\u001b[43m,\u001b[49m\u001b[38;5;241;43m101\u001b[39;49m\u001b[43m)\u001b[49m\u001b[43m)\u001b[49m\n",
      "\u001b[0;31mTypeError\u001b[0m: 'list' object is not callable"
     ]
    }
   ],
   "source": [
    " # Write a code to print odd numbers from 1 to 100 using list comprehension.\n",
    "i for i in range(1,101)\n",
    "list(j%2!=0 for j in list)"
   ]
  },
  {
   "cell_type": "code",
   "execution_count": null,
   "id": "7d0fed31-fff6-44e0-8207-2872ef4c2727",
   "metadata": {},
   "outputs": [],
   "source": []
  }
 ],
 "metadata": {
  "kernelspec": {
   "display_name": "Python 3 (ipykernel)",
   "language": "python",
   "name": "python3"
  },
  "language_info": {
   "codemirror_mode": {
    "name": "ipython",
    "version": 3
   },
   "file_extension": ".py",
   "mimetype": "text/x-python",
   "name": "python",
   "nbconvert_exporter": "python",
   "pygments_lexer": "ipython3",
   "version": "3.10.6"
  }
 },
 "nbformat": 4,
 "nbformat_minor": 5
}
