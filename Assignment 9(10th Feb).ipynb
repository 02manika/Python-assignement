{
 "cells": [
  {
   "cell_type": "code",
   "execution_count": null,
   "id": "c83e754d-f115-40f1-9dec-43f003f18280",
   "metadata": {},
   "outputs": [],
   "source": [
    "\"\"\"Which function is used to open a file? What are the different modes of opening a file? Explain each mode \n",
    "of file opening .\"\"\"\n",
    "\n",
    "open() function is used to open a file.\n",
    "Different modes of opening a file :\n",
    "    1. read mode(r).\n",
    "    2. write mode(w).\n",
    "    3. appending the file(a).\n",
    "    4. text mode(t).\n",
    "    5. binary mode(b).\n",
    "    6. open a file and write(x).\n",
    "    7. open a disk file and updating it(+).\n",
    "    8. universal new line mode(U)."
   ]
  },
  {
   "cell_type": "code",
   "execution_count": 25,
   "id": "32b2f41b-dd0e-4763-8e85-61a935a87153",
   "metadata": {},
   "outputs": [],
   "source": [
    "f=open(\"mani.txt\",'w')   #It first truncate and then writes."
   ]
  },
  {
   "cell_type": "code",
   "execution_count": 26,
   "id": "439659e6-0ed4-48e0-a9a0-99cd52f29728",
   "metadata": {},
   "outputs": [
    {
     "data": {
      "text/plain": [
       "'/home/jovyan/work'"
      ]
     },
     "execution_count": 26,
     "metadata": {},
     "output_type": "execute_result"
    }
   ],
   "source": [
    "pwd"
   ]
  },
  {
   "cell_type": "code",
   "execution_count": 27,
   "id": "367d32f6-fb5c-497b-9dcf-24308c12958b",
   "metadata": {},
   "outputs": [
    {
     "name": "stdout",
     "output_type": "stream",
     "text": [
      "[Errno 2] No such file or directory: 'work'\n",
      "/home/jovyan/work\n"
     ]
    }
   ],
   "source": [
    "cd work"
   ]
  },
  {
   "cell_type": "code",
   "execution_count": 28,
   "id": "b58eeaf8-f840-47c1-949e-25628198d964",
   "metadata": {},
   "outputs": [
    {
     "data": {
      "text/plain": [
       "15"
      ]
     },
     "execution_count": 28,
     "metadata": {},
     "output_type": "execute_result"
    }
   ],
   "source": [
    "f.write(\"This is my file\")"
   ]
  },
  {
   "cell_type": "code",
   "execution_count": 29,
   "id": "39668699-9efb-417e-a851-41045f9504ae",
   "metadata": {},
   "outputs": [],
   "source": [
    "f.close()"
   ]
  },
  {
   "cell_type": "code",
   "execution_count": 1,
   "id": "fcaf2187-2223-4210-b0c4-8dc9dd5fd83c",
   "metadata": {},
   "outputs": [],
   "source": [
    "f=open(\"mani.txt\",'a')  # this mode only writes the file."
   ]
  },
  {
   "cell_type": "code",
   "execution_count": 2,
   "id": "c274575e-6efe-43a9-ac9b-a0232872d4a4",
   "metadata": {},
   "outputs": [
    {
     "data": {
      "text/plain": [
       "34"
      ]
     },
     "execution_count": 2,
     "metadata": {},
     "output_type": "execute_result"
    }
   ],
   "source": [
    "f.write(\"\\n This is the next line in my file\")"
   ]
  },
  {
   "cell_type": "code",
   "execution_count": 3,
   "id": "689906e0-da49-4e52-bb17-969158bb1b7e",
   "metadata": {},
   "outputs": [],
   "source": [
    "f.close()"
   ]
  },
  {
   "cell_type": "code",
   "execution_count": 5,
   "id": "00664ca8-0eeb-4422-a8a7-2e7c2abe3e8b",
   "metadata": {},
   "outputs": [],
   "source": [
    "data=open(\"mani.txt\",'r')  #this mode opens the file in read mode."
   ]
  },
  {
   "cell_type": "code",
   "execution_count": 6,
   "id": "0d4b6a45-e4d2-476d-907e-3bad39a3db78",
   "metadata": {},
   "outputs": [
    {
     "data": {
      "text/plain": [
       "'This is my file\\n This is the next line in my file'"
      ]
     },
     "execution_count": 6,
     "metadata": {},
     "output_type": "execute_result"
    }
   ],
   "source": [
    "data.read()"
   ]
  },
  {
   "cell_type": "code",
   "execution_count": 7,
   "id": "bf5e0492-aafb-488c-8ad3-5f01e294138d",
   "metadata": {},
   "outputs": [],
   "source": [
    "with open(\"mani2.bin\",'wb') as f:\n",
    "    f.write(b\"\\x01\\x02\\x03\\x453456\")"
   ]
  },
  {
   "cell_type": "code",
   "execution_count": 9,
   "id": "0120a036-cd24-4e42-a18c-992fe026503d",
   "metadata": {},
   "outputs": [
    {
     "name": "stdout",
     "output_type": "stream",
     "text": [
      "b'\\x01\\x02\\x03E3456'\n"
     ]
    }
   ],
   "source": [
    "with open(\"mani2.bin\",\"rb\") as f:\n",
    "    print(f.read())"
   ]
  },
  {
   "cell_type": "code",
   "execution_count": null,
   "id": "6c687185-dd52-4c3b-9bad-46aa06502f8b",
   "metadata": {},
   "outputs": [],
   "source": [
    " \"\"\"Why close() function is used? Why is it important to close a file?\"\"\"\n",
    "    \n",
    "    close() function is used to close the file that the user/programmer has opened.\n",
    "    It is important to close the file because only after that the changes will be made in the file."
   ]
  },
  {
   "cell_type": "code",
   "execution_count": 10,
   "id": "f1b3c73d-840e-44ce-adcc-0439ac0467cd",
   "metadata": {},
   "outputs": [],
   "source": [
    "\"\"\" Write a python program to create a text file. Write ‘I want to become a Data Scientist’ in that file. Then \n",
    "close the file. Open this file and read the content of the file. \"\"\"\n",
    "\n",
    "f=open(\"pwskills.txt\",'w')"
   ]
  },
  {
   "cell_type": "code",
   "execution_count": 11,
   "id": "8be9793b-a6d2-4c71-aba5-bb5eff4abe32",
   "metadata": {},
   "outputs": [
    {
     "data": {
      "text/plain": [
       "33"
      ]
     },
     "execution_count": 11,
     "metadata": {},
     "output_type": "execute_result"
    }
   ],
   "source": [
    "f.write(\"I want to become a Data Scientist\")"
   ]
  },
  {
   "cell_type": "code",
   "execution_count": 12,
   "id": "44b7a4fc-2416-4711-a200-d35328c98dd5",
   "metadata": {},
   "outputs": [],
   "source": [
    "f.close()"
   ]
  },
  {
   "cell_type": "code",
   "execution_count": 13,
   "id": "c4e42c36-1995-431b-a295-0d2f808a4d96",
   "metadata": {},
   "outputs": [],
   "source": [
    "data=open(\"pwskills.txt\",'r') "
   ]
  },
  {
   "cell_type": "code",
   "execution_count": 14,
   "id": "f7c963fe-a3e1-4522-8040-8be5fcad1254",
   "metadata": {},
   "outputs": [
    {
     "data": {
      "text/plain": [
       "'I want to become a Data Scientist'"
      ]
     },
     "execution_count": 14,
     "metadata": {},
     "output_type": "execute_result"
    }
   ],
   "source": [
    "data.read()"
   ]
  },
  {
   "cell_type": "code",
   "execution_count": 15,
   "id": "15f74acb-354e-4cf9-9ac3-a259187b7805",
   "metadata": {},
   "outputs": [],
   "source": [
    "\"\"\"Explain the following with python code: read(), readline() and readlines().\"\"\"\n",
    "\n",
    "#read()\n",
    "\n",
    "f=open(\"task1.txt\",'w')"
   ]
  },
  {
   "cell_type": "code",
   "execution_count": 17,
   "id": "c8d4060c-d037-450c-926d-ca8e029786a3",
   "metadata": {},
   "outputs": [
    {
     "data": {
      "text/plain": [
       "151"
      ]
     },
     "execution_count": 17,
     "metadata": {},
     "output_type": "execute_result"
    }
   ],
   "source": [
    "f.write(\"PW Skills is the result of a continual effort to exponentially increase the employability of every Indian, irrespective of their socioeconomic status. \")"
   ]
  },
  {
   "cell_type": "code",
   "execution_count": 18,
   "id": "8a6e01e0-0043-411e-acc1-3a5b161373f1",
   "metadata": {},
   "outputs": [],
   "source": [
    "f.close()"
   ]
  },
  {
   "cell_type": "code",
   "execution_count": 19,
   "id": "7e42754f-5859-4034-9a59-63b450806256",
   "metadata": {},
   "outputs": [],
   "source": [
    "data=open(\"task1.txt\",'r')"
   ]
  },
  {
   "cell_type": "code",
   "execution_count": 20,
   "id": "270e9425-e952-48f9-a1d7-3b1d1f5b79e0",
   "metadata": {},
   "outputs": [
    {
     "data": {
      "text/plain": [
       "'PW Skills is the result of a continual effort to exponentially increase the employability of every Indian, irrespective of their socioeconomic status. '"
      ]
     },
     "execution_count": 20,
     "metadata": {},
     "output_type": "execute_result"
    }
   ],
   "source": [
    "data.read()"
   ]
  },
  {
   "cell_type": "code",
   "execution_count": 21,
   "id": "2743a85b-95ec-4508-943a-7c738961f209",
   "metadata": {},
   "outputs": [
    {
     "data": {
      "text/plain": [
       "''"
      ]
     },
     "execution_count": 21,
     "metadata": {},
     "output_type": "execute_result"
    }
   ],
   "source": [
    "#readline\n",
    "\n",
    "data.readline()       #Returns the next line of the file with all text up to and including the newline character."
   ]
  },
  {
   "cell_type": "code",
   "execution_count": 22,
   "id": "1bd8b354-9889-4bb6-8b2e-b3276575d1e3",
   "metadata": {},
   "outputs": [
    {
     "data": {
      "text/plain": [
       "5"
      ]
     },
     "execution_count": 22,
     "metadata": {},
     "output_type": "execute_result"
    }
   ],
   "source": [
    "data.seek(5)"
   ]
  },
  {
   "cell_type": "code",
   "execution_count": 23,
   "id": "c29d9e72-106d-47ea-adba-5aaaf00557f4",
   "metadata": {},
   "outputs": [
    {
     "data": {
      "text/plain": [
       "'ills is the result of a continual effort to exponentially increase the employability of every Indian, irrespective of their socioeconomic status. '"
      ]
     },
     "execution_count": 23,
     "metadata": {},
     "output_type": "execute_result"
    }
   ],
   "source": [
    "data.read()"
   ]
  },
  {
   "cell_type": "code",
   "execution_count": 26,
   "id": "1d15096e-4b92-40ae-9186-407e3e770ba8",
   "metadata": {},
   "outputs": [
    {
     "data": {
      "text/plain": [
       "[]"
      ]
     },
     "execution_count": 26,
     "metadata": {},
     "output_type": "execute_result"
    }
   ],
   "source": [
    "#readlines\n",
    "\n",
    "data.readlines()       #Returns a list of strings, each representing a single line of the file."
   ]
  },
  {
   "cell_type": "code",
   "execution_count": 27,
   "id": "4159bcd9-ce84-488a-9720-1d1a32983104",
   "metadata": {},
   "outputs": [
    {
     "data": {
      "text/plain": [
       "7"
      ]
     },
     "execution_count": 27,
     "metadata": {},
     "output_type": "execute_result"
    }
   ],
   "source": [
    "data.seek(7)"
   ]
  },
  {
   "cell_type": "code",
   "execution_count": 28,
   "id": "b76ba03d-6452-4840-a229-8a58dc9be8a6",
   "metadata": {},
   "outputs": [
    {
     "data": {
      "text/plain": [
       "'ls is the result of a continual effort to exponentially increase the employability of every Indian, irrespective of their socioeconomic status. '"
      ]
     },
     "execution_count": 28,
     "metadata": {},
     "output_type": "execute_result"
    }
   ],
   "source": [
    "data.read()"
   ]
  },
  {
   "cell_type": "code",
   "execution_count": null,
   "id": "a1c2df0f-bd2f-4aa5-ab8d-240cdd33c123",
   "metadata": {},
   "outputs": [],
   "source": [
    "\"\"\"Explain why with statement is used with open(). What is the advantage of using with statement and \n",
    "open() together.\"\"\"\n",
    "\n",
    "The with statement works with the open() function to open a file. \n",
    "Unlike open() where we have to close the file with the close() method, the with statement closes the file , without us telling it to. \n",
    "The main advantage is that we do not have to close the file again and again."
   ]
  },
  {
   "cell_type": "code",
   "execution_count": null,
   "id": "2ac27872-c8e9-416b-8257-8af99724475b",
   "metadata": {},
   "outputs": [],
   "source": [
    "\"\"\"Explain the write() and writelines() functions. Give a suitable example.\"\"\"\n",
    "\n",
    "The write() function will write the content in the file without adding any extra characters.\n",
    "This function writes the content of a list to a file."
   ]
  },
  {
   "cell_type": "code",
   "execution_count": 29,
   "id": "a94e5c47-c1b9-4954-b5ac-ea1eff5b0214",
   "metadata": {},
   "outputs": [],
   "source": [
    "#write.\n",
    "\n",
    "f=open(\"pw1.txt\",'w')"
   ]
  },
  {
   "cell_type": "code",
   "execution_count": 30,
   "id": "8767b55f-88df-44e3-9be1-9503e47bb52f",
   "metadata": {},
   "outputs": [
    {
     "data": {
      "text/plain": [
       "312"
      ]
     },
     "execution_count": 30,
     "metadata": {},
     "output_type": "execute_result"
    }
   ],
   "source": [
    "f.write(\"With accessibility and affordability being the support structure of high-quality, industry-relevant courses, PW Skills aims to empower professionals and students alike to either jumpstart their careers or leverage existing skills with new, future-driven upgrades that will help them realise their full potential.\")"
   ]
  },
  {
   "cell_type": "code",
   "execution_count": 31,
   "id": "bed3ba0d-efaa-4523-ab4b-be31e5b89136",
   "metadata": {},
   "outputs": [],
   "source": [
    "f.close()"
   ]
  },
  {
   "cell_type": "code",
   "execution_count": 32,
   "id": "d909f16f-621e-498c-9eda-38ba59d709ad",
   "metadata": {},
   "outputs": [],
   "source": [
    "data=open(\"pw1.txt\",'r')"
   ]
  },
  {
   "cell_type": "code",
   "execution_count": 33,
   "id": "49f88ef4-4b6c-49ca-9b07-b20447132fc6",
   "metadata": {},
   "outputs": [
    {
     "data": {
      "text/plain": [
       "'With accessibility and affordability being the support structure of high-quality, industry-relevant courses, PW Skills aims to empower professionals and students alike to either jumpstart their careers or leverage existing skills with new, future-driven upgrades that will help them realise their full potential.'"
      ]
     },
     "execution_count": 33,
     "metadata": {},
     "output_type": "execute_result"
    }
   ],
   "source": [
    "data.read()"
   ]
  },
  {
   "cell_type": "code",
   "execution_count": 34,
   "id": "67be4f2e-634a-4dd3-92f6-329d4f902340",
   "metadata": {},
   "outputs": [],
   "source": [
    "#writelines.\n",
    "\n",
    "f=open(\"pw2.txt\",'w')"
   ]
  },
  {
   "cell_type": "code",
   "execution_count": null,
   "id": "e204ba67-35d7-42ed-a4b3-05b4baad8ed3",
   "metadata": {},
   "outputs": [],
   "source": [
    "f.writelines([\"\\nGOOD MORNING!\", \"\\nGOOD NIGHT!\"])"
   ]
  }
 ],
 "metadata": {
  "kernelspec": {
   "display_name": "Python 3 (ipykernel)",
   "language": "python",
   "name": "python3"
  },
  "language_info": {
   "codemirror_mode": {
    "name": "ipython",
    "version": 3
   },
   "file_extension": ".py",
   "mimetype": "text/x-python",
   "name": "python",
   "nbconvert_exporter": "python",
   "pygments_lexer": "ipython3",
   "version": "3.10.8"
  }
 },
 "nbformat": 4,
 "nbformat_minor": 5
}
