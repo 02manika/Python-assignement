{
 "cells": [
  {
   "cell_type": "code",
   "execution_count": null,
   "id": "8b950bdc-6760-4787-9f1c-b28aa20cd4ee",
   "metadata": {},
   "outputs": [],
   "source": [
    "# What is Abstraction in OOps? Explain with an example.\n",
    "Abstraction is the method of hiding the data and displaying only the relevant / required data."
   ]
  },
  {
   "cell_type": "code",
   "execution_count": 1,
   "id": "05e19c9e-41e5-48f5-be1b-5d6e004435ed",
   "metadata": {},
   "outputs": [],
   "source": [
    "# Example.\n",
    "from abc import ABC,abstractmethod\n",
    "class computer(ABC):\n",
    "    @abstractmethod\n",
    "    def process(self):\n",
    "        pass\n",
    "\n",
    "class laptop(computer):\n",
    "    def process(self):\n",
    "        print(\"its running\")"
   ]
  },
  {
   "cell_type": "code",
   "execution_count": 2,
   "id": "71caef94-9046-4fd3-8793-750896abe34e",
   "metadata": {},
   "outputs": [],
   "source": [
    "obj = laptop()"
   ]
  },
  {
   "cell_type": "code",
   "execution_count": 3,
   "id": "b1748856-542e-4a76-bf78-82e0cade5aa7",
   "metadata": {},
   "outputs": [
    {
     "name": "stdout",
     "output_type": "stream",
     "text": [
      "its running\n"
     ]
    }
   ],
   "source": [
    "obj.process()"
   ]
  },
  {
   "cell_type": "code",
   "execution_count": null,
   "id": "2eb11578-a90b-494c-ae83-7532e5f52464",
   "metadata": {},
   "outputs": [],
   "source": [
    " # Differentiate between Abstraction and Encapsulation. Explain with an example.\n",
    "    ABSTRACTION is the method of hiding the data and displaying only the relevant / required data.\n",
    "    ENCAPSULATION is a method to hide the data in a single entity along with a method to protect information from outside."
   ]
  },
  {
   "cell_type": "code",
   "execution_count": 4,
   "id": "0465c338-18cf-4b4b-9165-c6a91fecf003",
   "metadata": {},
   "outputs": [],
   "source": [
    "# Example #ENCAPSULATION\n",
    "class car:\n",
    "    def __init__(self,year,make,model,speed):\n",
    "        self.__year=year\n",
    "        self.__make=make\n",
    "        self.__model=model\n",
    "        self.__speed=0\n",
    "        \n",
    "        \n",
    "    def set_speed(self,speed):\n",
    "        self.__speed=0 if speed<0 else speed\n",
    "        \n",
    "    def get_speed(self):\n",
    "        return self.__speed"
   ]
  },
  {
   "cell_type": "code",
   "execution_count": 5,
   "id": "686a3759-5224-436f-a8db-bf693fe052e3",
   "metadata": {},
   "outputs": [],
   "source": [
    "a=car(2020 , 2019 , \"Maruti\", 56)"
   ]
  },
  {
   "cell_type": "code",
   "execution_count": 7,
   "id": "e2d28c0b-c0fe-45db-ab35-bb38c6df4494",
   "metadata": {},
   "outputs": [
    {
     "data": {
      "text/plain": [
       "'Maruti'"
      ]
     },
     "execution_count": 7,
     "metadata": {},
     "output_type": "execute_result"
    }
   ],
   "source": [
    "a._car__model"
   ]
  },
  {
   "cell_type": "code",
   "execution_count": 8,
   "id": "0213b010-7b28-40aa-8819-4810c0df7faf",
   "metadata": {},
   "outputs": [],
   "source": [
    "a.set_speed(-78)"
   ]
  },
  {
   "cell_type": "code",
   "execution_count": 9,
   "id": "8509135f-8fdf-4bec-b2a2-77671b04be6d",
   "metadata": {},
   "outputs": [
    {
     "data": {
      "text/plain": [
       "0"
      ]
     },
     "execution_count": 9,
     "metadata": {},
     "output_type": "execute_result"
    }
   ],
   "source": [
    "a.get_speed()"
   ]
  },
  {
   "cell_type": "code",
   "execution_count": 16,
   "id": "5a1d8b10-7a81-4c46-99d5-6c83e0c65864",
   "metadata": {},
   "outputs": [],
   "source": [
    "# Example  #ABSTRACTION\n",
    "from abc import ABC , abstractmethod\n",
    "class sum(ABC):\n",
    "    def add():\n",
    "        pass\n",
    "class addition(sum):\n",
    "    def __init__(self,a,b):\n",
    "         self.a=a\n",
    "         self.b=b\n",
    "        \n",
    "    def add(self):\n",
    "        return self.a + self.b"
   ]
  },
  {
   "cell_type": "code",
   "execution_count": 17,
   "id": "3941a243-12b0-4319-9211-90af822ae91b",
   "metadata": {},
   "outputs": [],
   "source": [
    "m=addition(9,10)"
   ]
  },
  {
   "cell_type": "code",
   "execution_count": null,
   "id": "2591ac0b-a12e-4b1b-9ac0-13748c9f53d7",
   "metadata": {},
   "outputs": [],
   "source": [
    "# What is abc module in python? Why is it used?\n",
    "abc module stands for astract base class . \n",
    "An abstract method is a method that is declared, but contains no implementation. \n",
    "Abstract classes may not be instantiated, and its abstract methods must be implemented by its subclasses.\n",
    "abc module  provide a way to define interfaces."
   ]
  },
  {
   "cell_type": "code",
   "execution_count": null,
   "id": "7d39e730-4ef3-4591-964e-83512eeb96bf",
   "metadata": {},
   "outputs": [],
   "source": [
    "# How can we achieve data abstraction?\n",
    "By using abc module or interface method ."
   ]
  },
  {
   "cell_type": "code",
   "execution_count": null,
   "id": "ece9fb00-45d9-43d5-bec1-61d25e760a1c",
   "metadata": {},
   "outputs": [],
   "source": [
    " # Can we create an instance of an abstract class? Explain your answer\n",
    "    No we cannot create object of an abstract class."
   ]
  },
  {
   "cell_type": "code",
   "execution_count": 19,
   "id": "fa770a74-e77d-4593-8424-82468cdda375",
   "metadata": {},
   "outputs": [],
   "source": [
    "#Example.\n",
    "from abc import ABC,abstractmethod\n",
    "class computer(ABC):\n",
    "    @abstractmethod\n",
    "    def process(self):\n",
    "        pass\n",
    "# if we try to create object of this particular abstract class , it will give error."
   ]
  },
  {
   "cell_type": "code",
   "execution_count": 20,
   "id": "238bc982-c80f-45bc-b0b3-11e619029541",
   "metadata": {},
   "outputs": [
    {
     "ename": "TypeError",
     "evalue": "Can't instantiate abstract class computer with abstract method process",
     "output_type": "error",
     "traceback": [
      "\u001b[0;31m---------------------------------------------------------------------------\u001b[0m",
      "\u001b[0;31mTypeError\u001b[0m                                 Traceback (most recent call last)",
      "Input \u001b[0;32mIn [20]\u001b[0m, in \u001b[0;36m<cell line: 1>\u001b[0;34m()\u001b[0m\n\u001b[0;32m----> 1\u001b[0m com\u001b[38;5;241m=\u001b[39m\u001b[43mcomputer\u001b[49m\u001b[43m(\u001b[49m\u001b[43m)\u001b[49m\n",
      "\u001b[0;31mTypeError\u001b[0m: Can't instantiate abstract class computer with abstract method process"
     ]
    }
   ],
   "source": [
    "com=computer()"
   ]
  },
  {
   "cell_type": "code",
   "execution_count": null,
   "id": "1b1ca91c-bcf6-4547-8e67-cd1c8b9d7b72",
   "metadata": {},
   "outputs": [],
   "source": [
    "# hence object cannot be created."
   ]
  }
 ],
 "metadata": {
  "kernelspec": {
   "display_name": "anaconda-2022.05-py39",
   "language": "python",
   "name": "conda-env-anaconda-2022.05-py39-py"
  },
  "language_info": {
   "codemirror_mode": {
    "name": "ipython",
    "version": 3
   },
   "file_extension": ".py",
   "mimetype": "text/x-python",
   "name": "python",
   "nbconvert_exporter": "python",
   "pygments_lexer": "ipython3",
   "version": "3.9.12"
  }
 },
 "nbformat": 4,
 "nbformat_minor": 5
}
