{
 "cells": [
  {
   "cell_type": "code",
   "execution_count": null,
   "id": "0cd4e80a-b09c-47b7-ad86-3038cc95aa98",
   "metadata": {},
   "outputs": [],
   "source": [
    "\"\"\"What is an Exception in python? Write the difference between Exceptions and syntax errors.\"\"\"\n",
    "\n",
    "It is a phenomenon/event that occurs during the execution of the program and that stops the further execution of the program , because in python there\n",
    "is sequential flow of execution.\n",
    "\n",
    "Syntax error occurs when there is error in the syntax , for example missing parenthesis , addition of unknown character.\n",
    "But exceptions occurs during execution time or compile time and stops the further execution . "
   ]
  },
  {
   "cell_type": "code",
   "execution_count": null,
   "id": "e46113b2-d34a-4387-bde5-d2304be67235",
   "metadata": {},
   "outputs": [],
   "source": [
    "\"\"\"What happens when an exception is not handled? Explain with an example.\"\"\"\n",
    "\n",
    "If exception is not handled , it further stops the execution of the code . \n",
    "If the exception is not handled by an except clause, the exception is re-raised after the finally clause has been executed."
   ]
  },
  {
   "cell_type": "code",
   "execution_count": 1,
   "id": "ee45a99a-3646-40aa-aba3-c2315cc8bf9f",
   "metadata": {},
   "outputs": [
    {
     "ename": "ZeroDivisionError",
     "evalue": "division by zero",
     "output_type": "error",
     "traceback": [
      "\u001b[0;31m---------------------------------------------------------------------------\u001b[0m",
      "\u001b[0;31mZeroDivisionError\u001b[0m                         Traceback (most recent call last)",
      "Cell \u001b[0;32mIn[1], line 4\u001b[0m\n\u001b[1;32m      2\u001b[0m b\u001b[38;5;241m=\u001b[39m\u001b[38;5;241m0\u001b[39m\n\u001b[1;32m      3\u001b[0m c\u001b[38;5;241m=\u001b[39m\u001b[38;5;241m5\u001b[39m\n\u001b[0;32m----> 4\u001b[0m \u001b[43ma\u001b[49m\u001b[38;5;241;43m/\u001b[39;49m\u001b[43mb\u001b[49m\n\u001b[1;32m      5\u001b[0m a\u001b[38;5;241m+\u001b[39mc\n",
      "\u001b[0;31mZeroDivisionError\u001b[0m: division by zero"
     ]
    }
   ],
   "source": [
    "#Example\n",
    "\n",
    "a=10\n",
    "b=0\n",
    "c=5\n",
    "a/b\n",
    "a+c"
   ]
  },
  {
   "cell_type": "code",
   "execution_count": null,
   "id": "40cf8409-8c6b-4add-86a7-290c5cea8bd7",
   "metadata": {},
   "outputs": [],
   "source": [
    "\"\"\"Which Python statements are used to catch and handle exceptions? Explain with an example.\"\"\"\n",
    "\n",
    "try and except statements are used to catch and handle exceptions."
   ]
  },
  {
   "cell_type": "code",
   "execution_count": 4,
   "id": "24a00cb1-fa4e-4898-a22c-c4405602bc16",
   "metadata": {},
   "outputs": [
    {
     "name": "stdout",
     "output_type": "stream",
     "text": [
      "division by zero\n"
     ]
    }
   ],
   "source": [
    "#Example.\n",
    "\n",
    "try:\n",
    "    a=10\n",
    "    b=0\n",
    "    a/b\n",
    "except Exception as e:\n",
    "    print(e)"
   ]
  },
  {
   "cell_type": "code",
   "execution_count": 3,
   "id": "c5b916b5-6aa2-4980-a603-1e3f832dc9c7",
   "metadata": {},
   "outputs": [
    {
     "name": "stdout",
     "output_type": "stream",
     "text": [
      "This is my else block\n"
     ]
    }
   ],
   "source": [
    "\"\"\" try and else\"\"\"\n",
    "\n",
    "try:\n",
    "    with open(\"try1.bin\",'wb') as f:\n",
    "        f.write(b\"\\x01\\x02\\x03\\x453456\")\n",
    "        \n",
    "except Excetion as e:\n",
    "    print(e)\n",
    "    \n",
    "else:\n",
    "    print(\"This is my else block\")"
   ]
  },
  {
   "cell_type": "code",
   "execution_count": 4,
   "id": "ebe807ae-8366-484f-b8c1-9c2d5d22769e",
   "metadata": {},
   "outputs": [
    {
     "name": "stdout",
     "output_type": "stream",
     "text": [
      "This is my finally block\n"
     ]
    },
    {
     "ename": "ZeroDivisionError",
     "evalue": "division by zero",
     "output_type": "error",
     "traceback": [
      "\u001b[0;31m---------------------------------------------------------------------------\u001b[0m",
      "\u001b[0;31mZeroDivisionError\u001b[0m                         Traceback (most recent call last)",
      "Cell \u001b[0;32mIn[4], line 6\u001b[0m\n\u001b[1;32m      4\u001b[0m     a\u001b[38;5;241m=\u001b[39m\u001b[38;5;241m10\u001b[39m\n\u001b[1;32m      5\u001b[0m     b\u001b[38;5;241m=\u001b[39m\u001b[38;5;241m0\u001b[39m\n\u001b[0;32m----> 6\u001b[0m     \u001b[43ma\u001b[49m\u001b[38;5;241;43m/\u001b[39;49m\u001b[43mb\u001b[49m\n\u001b[1;32m      8\u001b[0m \u001b[38;5;28;01mfinally\u001b[39;00m:\n\u001b[1;32m      9\u001b[0m     \u001b[38;5;28mprint\u001b[39m(\u001b[38;5;124m\"\u001b[39m\u001b[38;5;124mThis is my finally block\u001b[39m\u001b[38;5;124m\"\u001b[39m)\n",
      "\u001b[0;31mZeroDivisionError\u001b[0m: division by zero"
     ]
    }
   ],
   "source": [
    "\"\"\"finally\"\"\"\n",
    "\n",
    "try:\n",
    "    a=10\n",
    "    b=0\n",
    "    a/b\n",
    "    \n",
    "finally:\n",
    "    print(\"This is my finally block\")"
   ]
  },
  {
   "cell_type": "code",
   "execution_count": 5,
   "id": "033e8411-0a88-4fa2-b15d-24f89bd7406b",
   "metadata": {},
   "outputs": [],
   "source": [
    "\"\"\"raise\"\"\"\n",
    "class leapyear(Exception):\n",
    "    \n",
    "    def __init__(self,dis):\n",
    "        self.dis = dis\n",
    "    "
   ]
  },
  {
   "cell_type": "code",
   "execution_count": 7,
   "id": "2684f322-2356-47dd-abc9-714ec4dc21d4",
   "metadata": {},
   "outputs": [],
   "source": [
    "def leap_yr(year):\n",
    "    if year%4==0:\n",
    "         raise leapyear (\"Entered year is a leap year\")\n",
    "            \n",
    "    else:\n",
    "        print(\"Not a leap year\")"
   ]
  },
  {
   "cell_type": "code",
   "execution_count": 8,
   "id": "1796167d-85e6-4d1e-ad02-180e5bf16fc6",
   "metadata": {},
   "outputs": [
    {
     "name": "stdin",
     "output_type": "stream",
     "text": [
      "Enter the year: 2020\n"
     ]
    },
    {
     "name": "stdout",
     "output_type": "stream",
     "text": [
      "Entered year is a leap year\n"
     ]
    }
   ],
   "source": [
    "try:\n",
    "    year=int(input(\"Enter the year:\"))\n",
    "    leap_yr(year)\n",
    "    \n",
    "except leapyear as e:\n",
    "    print(e)\n",
    "    "
   ]
  },
  {
   "cell_type": "code",
   "execution_count": 9,
   "id": "6302cf0f-42e0-43f8-8fdd-cda0497f8b5f",
   "metadata": {},
   "outputs": [
    {
     "name": "stdin",
     "output_type": "stream",
     "text": [
      "Enter the year: 2025\n"
     ]
    },
    {
     "name": "stdout",
     "output_type": "stream",
     "text": [
      "Not a leap year\n"
     ]
    }
   ],
   "source": [
    "try:\n",
    "    year=int(input(\"Enter the year:\"))\n",
    "    leap_yr(year)\n",
    "    \n",
    "except leapyear as e:\n",
    "    print(e)\n",
    "    "
   ]
  },
  {
   "cell_type": "code",
   "execution_count": null,
   "id": "bff2aa95-81e2-4818-9db9-ab192a41f5b7",
   "metadata": {},
   "outputs": [],
   "source": [
    "\"\"\"What are Custom Exceptions in python? Why do we need Custom Exceptions? Explain with an example.\"\"\"\n",
    "\n",
    "Custom or User-defined Exceptions are designed as per the requirement of the program. \n",
    "Using custom Exception we can have our own Exception and a meaningful message explaining the cause of the exception."
   ]
  },
  {
   "cell_type": "code",
   "execution_count": 10,
   "id": "51180146-21f1-44d7-9540-ca4f126f13dd",
   "metadata": {},
   "outputs": [],
   "source": [
    "#Example.\n",
    "\n",
    "class validateage(Exception):\n",
    "    \n",
    "    def __init__(self,mssg):\n",
    "        self.mssg=mssg"
   ]
  },
  {
   "cell_type": "code",
   "execution_count": 11,
   "id": "c286ebe7-dd17-4784-9e23-f29af5b82eb7",
   "metadata": {},
   "outputs": [],
   "source": [
    "def valid_age(age):\n",
    "    if age < 0:\n",
    "        raise validateage(\"entered age is negative\")\n",
    "        \n",
    "    elif age > 200:\n",
    "        raise validateage(\"entered age is high\")\n",
    "        \n",
    "    else:\n",
    "        print(\"age is valid\")"
   ]
  },
  {
   "cell_type": "code",
   "execution_count": 12,
   "id": "f8407472-8e62-49f0-88a6-dc8dfc18da15",
   "metadata": {},
   "outputs": [
    {
     "name": "stdin",
     "output_type": "stream",
     "text": [
      "Enter ur age 9877\n"
     ]
    },
    {
     "name": "stdout",
     "output_type": "stream",
     "text": [
      "entered age is high\n"
     ]
    }
   ],
   "source": [
    "try:\n",
    "    age=int(input(\"Enter ur age\"))\n",
    "    valid_age(age)\n",
    "    \n",
    "except validateage as e:\n",
    "    print(e)"
   ]
  },
  {
   "cell_type": "code",
   "execution_count": null,
   "id": "e144fb94-c277-42f2-b42f-67a79e1d6595",
   "metadata": {},
   "outputs": [],
   "source": []
  },
  {
   "cell_type": "code",
   "execution_count": 14,
   "id": "79a736a0-a658-4bef-8c35-cebfd48b3b4e",
   "metadata": {},
   "outputs": [],
   "source": [
    "class leapyear(Exception):\n",
    "    \n",
    "    def __init__(self,dis):\n",
    "        self.dis = dis\n",
    "\n",
    "        \n",
    "def leap_yr(year):\n",
    "    if year%4==0:\n",
    "         raise leapyear (\"Entered year is a leap year\")\n",
    "            \n",
    "    else:\n",
    "        print(\"Not a leap year\")  "
   ]
  },
  {
   "cell_type": "code",
   "execution_count": 15,
   "id": "2427d2fb-285a-4930-ab32-1c370a2fd18d",
   "metadata": {},
   "outputs": [
    {
     "name": "stdin",
     "output_type": "stream",
     "text": [
      "Enter ur age 98\n"
     ]
    },
    {
     "name": "stdout",
     "output_type": "stream",
     "text": [
      "age is valid\n"
     ]
    }
   ],
   "source": [
    "try:\n",
    "    age=int(input(\"Enter ur age\"))\n",
    "    valid_age(age)\n",
    "    \n",
    "except validateage as e:\n",
    "    print(e)"
   ]
  },
  {
   "cell_type": "code",
   "execution_count": null,
   "id": "c76c1823-282f-4f19-bcb8-8cda595f717f",
   "metadata": {},
   "outputs": [],
   "source": []
  }
 ],
 "metadata": {
  "kernelspec": {
   "display_name": "Python 3 (ipykernel)",
   "language": "python",
   "name": "python3"
  },
  "language_info": {
   "codemirror_mode": {
    "name": "ipython",
    "version": 3
   },
   "file_extension": ".py",
   "mimetype": "text/x-python",
   "name": "python",
   "nbconvert_exporter": "python",
   "pygments_lexer": "ipython3",
   "version": "3.10.8"
  }
 },
 "nbformat": 4,
 "nbformat_minor": 5
}
