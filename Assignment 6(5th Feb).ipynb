{
 "cells": [
  {
   "cell_type": "code",
   "execution_count": null,
   "id": "58caa7f9-01b6-4630-849b-f043cca131c5",
   "metadata": {},
   "outputs": [],
   "source": [
    " # Explain Class and Object with respect to Object-Oriented Programming. Give a suitable example.\n",
    "    Class is the skeleton or the blue print of any real world entity. \n",
    "    Object is the variable or the instance of the class."
   ]
  },
  {
   "cell_type": "code",
   "execution_count": 5,
   "id": "2af54941-ad8b-4595-9e88-79c79fa61f12",
   "metadata": {},
   "outputs": [],
   "source": [
    "# Example of class and object.\n",
    "class mani:\n",
    "    def wlcm(self):\n",
    "        return \"hello!!!\""
   ]
  },
  {
   "cell_type": "code",
   "execution_count": 6,
   "id": "91d07d12-443a-4161-b8b1-694ab787a904",
   "metadata": {},
   "outputs": [],
   "source": [
    "agg = mani()"
   ]
  },
  {
   "cell_type": "code",
   "execution_count": 7,
   "id": "bb4ee4d9-e902-4d70-8742-9fe3458bff3f",
   "metadata": {},
   "outputs": [
    {
     "data": {
      "text/plain": [
       "'hello!!!'"
      ]
     },
     "execution_count": 7,
     "metadata": {},
     "output_type": "execute_result"
    }
   ],
   "source": [
    "agg.wlcm()"
   ]
  },
  {
   "cell_type": "code",
   "execution_count": null,
   "id": "54f88f2b-5ec6-46f9-a9e0-71a41147ed3b",
   "metadata": {},
   "outputs": [],
   "source": [
    " # Name the four pillars of OOPs.\n",
    "    1. Inheritance.\n",
    "    2. Polymorphism.\n",
    "    3.Encapsulation.\n",
    "    4.Abstarction."
   ]
  },
  {
   "cell_type": "code",
   "execution_count": null,
   "id": "536c0f0f-d76f-4b1c-9693-2a3bbc28eced",
   "metadata": {},
   "outputs": [],
   "source": [
    " # Explain why the __init__() function is used. Give a suitable example.\n",
    "    It is a constructor that lets the class initialize the object's attributes.\n",
    "    It is only used within classes."
   ]
  },
  {
   "cell_type": "code",
   "execution_count": 14,
   "id": "dc48bd0d-4935-4442-96b1-2c8f916e72bc",
   "metadata": {},
   "outputs": [],
   "source": [
    "# Example of __init__ .\n",
    "\n",
    "class Person:\n",
    " \n",
    "    def __init__(self, name):\n",
    "        self.name = name\n",
    " \n",
    "    def mssg(self):\n",
    "        print('My name is', self.name)"
   ]
  },
  {
   "cell_type": "code",
   "execution_count": 15,
   "id": "95c24368-30f4-4a29-8033-784e1b142cab",
   "metadata": {},
   "outputs": [],
   "source": [
    "a= Person('manika')"
   ]
  },
  {
   "cell_type": "code",
   "execution_count": 16,
   "id": "7124f95d-5441-4f87-b8bd-32ee7107d338",
   "metadata": {},
   "outputs": [
    {
     "name": "stdout",
     "output_type": "stream",
     "text": [
      "My name is manika\n"
     ]
    }
   ],
   "source": [
    "a.mssg()"
   ]
  },
  {
   "cell_type": "code",
   "execution_count": null,
   "id": "ddaac776-00f6-4a17-abbc-0ce9befce256",
   "metadata": {},
   "outputs": [],
   "source": [
    " # Why self is used in OOPs ?\n",
    "    Self is used for the refrence of current instance of the class.\n",
    "    Also it is used to access the object of the class."
   ]
  },
  {
   "cell_type": "code",
   "execution_count": null,
   "id": "53b94623-18af-4568-9f39-4371751bac45",
   "metadata": {},
   "outputs": [],
   "source": [
    "# What is inheritance? Give an example for each type of inheritance ?\n",
    " It is the method of inheriting the properties of the base class to the child class.\n",
    " Types of inheritance :\n",
    "    a)Single\n",
    "    b)Multiple\n",
    "    c)Multilevel"
   ]
  },
  {
   "cell_type": "code",
   "execution_count": 17,
   "id": "eda93b6d-5a60-4409-a06f-7e797a0ee80b",
   "metadata": {},
   "outputs": [],
   "source": [
    "class test :                               #single inheritance\n",
    "    def test_meth(self):\n",
    "        return \" this is single inheritance \""
   ]
  },
  {
   "cell_type": "code",
   "execution_count": 18,
   "id": "8aa5d88c-cc0d-4d19-b30c-e7d491526250",
   "metadata": {},
   "outputs": [],
   "source": [
    "class t1(test):\n",
    "    pass"
   ]
  },
  {
   "cell_type": "code",
   "execution_count": 19,
   "id": "fecedd91-f471-4356-8f77-cd68e69a4470",
   "metadata": {},
   "outputs": [],
   "source": [
    "m=t1()"
   ]
  },
  {
   "cell_type": "code",
   "execution_count": 20,
   "id": "edf3f087-036a-4d6c-b63c-893897f98f18",
   "metadata": {},
   "outputs": [
    {
     "data": {
      "text/plain": [
       "' this is single inheritance '"
      ]
     },
     "execution_count": 20,
     "metadata": {},
     "output_type": "execute_result"
    }
   ],
   "source": [
    "m.test_meth()"
   ]
  },
  {
   "cell_type": "code",
   "execution_count": 26,
   "id": "6c92b7ca-6394-45c9-a4e8-5c0bd00c07cb",
   "metadata": {},
   "outputs": [],
   "source": [
    "class m1:                #multiple inheritance\n",
    "    \n",
    "    def test1(self):\n",
    "        return \"belong to t1\""
   ]
  },
  {
   "cell_type": "code",
   "execution_count": 27,
   "id": "7c167727-e507-45e6-8662-600c1e6dc00e",
   "metadata": {},
   "outputs": [],
   "source": [
    "class m2:\n",
    "    \n",
    "    def test2(self):\n",
    "        return \"belong to t2\""
   ]
  },
  {
   "cell_type": "code",
   "execution_count": 28,
   "id": "debabd22-a1b9-4c4c-a23b-a0bfd23aa290",
   "metadata": {},
   "outputs": [],
   "source": [
    "class m3(m1,m2):\n",
    "    pass"
   ]
  },
  {
   "cell_type": "code",
   "execution_count": 29,
   "id": "03c69060-aa5d-43bd-a4cb-4ebc2ee7a9ef",
   "metadata": {},
   "outputs": [],
   "source": [
    "obj_m3 = m3()"
   ]
  },
  {
   "cell_type": "code",
   "execution_count": 30,
   "id": "a1bee918-0350-40fe-bab0-29e1379bcf6d",
   "metadata": {},
   "outputs": [
    {
     "data": {
      "text/plain": [
       "'belong to t1'"
      ]
     },
     "execution_count": 30,
     "metadata": {},
     "output_type": "execute_result"
    }
   ],
   "source": [
    "obj_m3.test1()"
   ]
  },
  {
   "cell_type": "code",
   "execution_count": null,
   "id": "f25985b7-0b0c-49e5-98ad-edace8c28b4c",
   "metadata": {},
   "outputs": [],
   "source": [
    "obj_m3."
   ]
  }
 ],
 "metadata": {
  "kernelspec": {
   "display_name": "anaconda-2022.05-py39",
   "language": "python",
   "name": "conda-env-anaconda-2022.05-py39-py"
  },
  "language_info": {
   "codemirror_mode": {
    "name": "ipython",
    "version": 3
   },
   "file_extension": ".py",
   "mimetype": "text/x-python",
   "name": "python",
   "nbconvert_exporter": "python",
   "pygments_lexer": "ipython3",
   "version": "3.9.12"
  }
 },
 "nbformat": 4,
 "nbformat_minor": 5
}
