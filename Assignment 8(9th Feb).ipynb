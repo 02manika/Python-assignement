{
 "cells": [
  {
   "cell_type": "code",
   "execution_count": 1,
   "id": "b3bd7add-2789-43e9-b072-6bd7260a4c2c",
   "metadata": {},
   "outputs": [],
   "source": [
    "\"\"\"Create a vehicle class with an init method having instance variables as name_of_vehicle, max_speed \n",
    "and average_of_vehicle.\"\"\"\n",
    "\n",
    "class vehicle:\n",
    "    \n",
    "    def __init__(self,vehicle, max_speed , average):\n",
    "        self.name_of_vehicle = vehicle\n",
    "        self.max_speed = max_speed\n",
    "        self.average_of_vehicle = average"
   ]
  },
  {
   "cell_type": "code",
   "execution_count": 2,
   "id": "3e2bf12f-1e38-4a34-b08a-8301829074fa",
   "metadata": {},
   "outputs": [],
   "source": [
    " \"\"\"Create a child class car from the vehicle class created in Que 1, which will inherit the vehicle class. \n",
    "Create a method named seating_capacity which takes capacity as an argument and returns the name of \n",
    "the vehicle and its seating capacity.\"\"\"\n",
    "    \n",
    "class car(vehicle):\n",
    "    \n",
    "    def seating_capacity(self,capacity):\n",
    "        self.name_of_vehicle = vehicle\n",
    "        self.capacity = capacity"
   ]
  },
  {
   "cell_type": "code",
   "execution_count": null,
   "id": "56e52d76-7510-4ee8-a02d-b39d3dc6a95f",
   "metadata": {},
   "outputs": [],
   "source": [
    "# What is multiple inheritance? Write a python code to demonstrate multiple inheritance.\n",
    "When a class is derived from more than one base class it is called multiple inheritance. "
   ]
  },
  {
   "cell_type": "code",
   "execution_count": 3,
   "id": "e3e92db6-1773-4f00-a8ae-01f08ce6c975",
   "metadata": {},
   "outputs": [],
   "source": [
    "# Example.\n",
    "class class1:                         # multilple inheritance\n",
    "    \n",
    "    def test_class1(self):\n",
    "        return \"this is class 1\"\n",
    "       "
   ]
  },
  {
   "cell_type": "code",
   "execution_count": 5,
   "id": "c414eb9c-2876-44d2-bb44-cc1f2ee31c47",
   "metadata": {},
   "outputs": [],
   "source": [
    "class class2:                         # multilple inheritance\n",
    "    \n",
    "    def test_class2(self):\n",
    "        return \"this is class 2\"\n",
    "       "
   ]
  },
  {
   "cell_type": "code",
   "execution_count": 6,
   "id": "111defe6-aae5-46c5-949d-3f41677db067",
   "metadata": {},
   "outputs": [],
   "source": [
    "class class3(class1,class2):\n",
    "    pass"
   ]
  },
  {
   "cell_type": "code",
   "execution_count": 7,
   "id": "80b48fd6-9c8a-4ce2-bec5-6e7850b6a547",
   "metadata": {},
   "outputs": [],
   "source": [
    "obj_class3 = class3()"
   ]
  },
  {
   "cell_type": "code",
   "execution_count": 8,
   "id": "4df56310-fac8-431e-89ef-614aee103ea9",
   "metadata": {},
   "outputs": [
    {
     "data": {
      "text/plain": [
       "'this is class 2'"
      ]
     },
     "execution_count": 8,
     "metadata": {},
     "output_type": "execute_result"
    }
   ],
   "source": [
    "obj_class3.test_class2()"
   ]
  },
  {
   "cell_type": "code",
   "execution_count": 9,
   "id": "da739d05-9e74-4d84-b38c-ddaf8497453f",
   "metadata": {},
   "outputs": [
    {
     "data": {
      "text/plain": [
       "'this is class 1'"
      ]
     },
     "execution_count": 9,
     "metadata": {},
     "output_type": "execute_result"
    }
   ],
   "source": [
    "obj_class3.test_class1()"
   ]
  },
  {
   "cell_type": "code",
   "execution_count": null,
   "id": "68be85a9-cecd-4b3b-9e6d-81fa22486945",
   "metadata": {},
   "outputs": [],
   "source": [
    " # What are getter and setter in python? Create a class and create a getter and a setter method in this class?\n",
    "    getter and setter are used to ensure data encapsulation in oops."
   ]
  },
  {
   "cell_type": "code",
   "execution_count": 10,
   "id": "088fdb3d-e71b-45ef-b7f0-fd027c1336c9",
   "metadata": {},
   "outputs": [],
   "source": [
    "# Example.\n",
    "class manika:\n",
    "    def __init__(self, age = 0):\n",
    "         self._age = age\n",
    "      \n",
    "    def get_age(self):\n",
    "        return self._age\n",
    "      \n",
    "    def set_age(self, m):\n",
    "        self._age = m"
   ]
  },
  {
   "cell_type": "code",
   "execution_count": 11,
   "id": "3e5d9064-e305-43e3-9b5f-d472cba9b46a",
   "metadata": {},
   "outputs": [],
   "source": [
    "xyz=manika()"
   ]
  },
  {
   "cell_type": "code",
   "execution_count": 13,
   "id": "df722058-9567-499e-a3d9-c19800fabdef",
   "metadata": {},
   "outputs": [],
   "source": [
    "xyz.set_age(21)"
   ]
  },
  {
   "cell_type": "code",
   "execution_count": 14,
   "id": "38405995-e587-4296-816d-ef12dfe79804",
   "metadata": {},
   "outputs": [
    {
     "data": {
      "text/plain": [
       "21"
      ]
     },
     "execution_count": 14,
     "metadata": {},
     "output_type": "execute_result"
    }
   ],
   "source": [
    "xyz.get_age()"
   ]
  },
  {
   "cell_type": "code",
   "execution_count": null,
   "id": "0bb46139-3e37-423c-b7d8-a6c92ce3d8d8",
   "metadata": {},
   "outputs": [],
   "source": [
    "# What is method overriding in python? Write a python code to demonstrate method overriding.\n",
    "Method overriding is an ability of any object-oriented programming language that allows a subclass or\n",
    "child class to provide a specific implementation of a method that is already provided by one of its super-classes or parent classes. "
   ]
  },
  {
   "cell_type": "code",
   "execution_count": 15,
   "id": "5c2ceaf3-5337-417c-9664-324fbc746e82",
   "metadata": {},
   "outputs": [],
   "source": [
    "#Example\n",
    "class test1:\n",
    "    \n",
    "    def stmnt():\n",
    "        print(\"Test 1 passed\")\n",
    "        \n",
    "class test2(test1):\n",
    "    \n",
    "    def stmnt1():\n",
    "        print(\"Test 2 passed\")"
   ]
  },
  {
   "cell_type": "code",
   "execution_count": 16,
   "id": "4bba019f-2ff6-4b67-a4e3-3a446462384b",
   "metadata": {},
   "outputs": [],
   "source": [
    "obj = test2()"
   ]
  },
  {
   "cell_type": "code",
   "execution_count": null,
   "id": "8988429d-9aaa-4da3-82af-fc7c3ab16913",
   "metadata": {},
   "outputs": [],
   "source": [
    "obj.stmnt1"
   ]
  }
 ],
 "metadata": {
  "kernelspec": {
   "display_name": "anaconda-2022.05-py39",
   "language": "python",
   "name": "conda-env-anaconda-2022.05-py39-py"
  },
  "language_info": {
   "codemirror_mode": {
    "name": "ipython",
    "version": 3
   },
   "file_extension": ".py",
   "mimetype": "text/x-python",
   "name": "python",
   "nbconvert_exporter": "python",
   "pygments_lexer": "ipython3",
   "version": "3.9.12"
  }
 },
 "nbformat": 4,
 "nbformat_minor": 5
}
