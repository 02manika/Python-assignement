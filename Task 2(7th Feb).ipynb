{
 "cells": [
  {
   "cell_type": "code",
   "execution_count": 8,
   "id": "88190f75-8fb3-4030-b53a-18ed701370d9",
   "metadata": {},
   "outputs": [
    {
     "name": "stdin",
     "output_type": "stream",
     "text": [
      "Enter the password R@m@_f0rtu9e$\n"
     ]
    },
    {
     "name": "stdout",
     "output_type": "stream",
     "text": [
      "Invalid Password\n"
     ]
    }
   ],
   "source": [
    "\"\"\"You are writing code for a company. The requirement of the company is that you create a python \n",
    "function that will check whether the password entered by the user is correct or not. The function should \n",
    "take the password as input and return the string “Valid Password” if the entered password follows the \n",
    "below-given password guidelines else it should return “Invalid Password”.\n",
    "\n",
    "\n",
    "Note: 1. The Password should contain at least two uppercase letters and at least two lowercase letters.\n",
    "\n",
    "2. The Password should contain at least a number and three special characters.\n",
    "\n",
    "3. The length of the password should be 10 characters long.\"\"\"\n",
    "\n",
    "\n",
    "password = input(\"Enter the password\")\n",
    "l,u,s,d=1,1,1,1\n",
    "for i in password:\n",
    "    if i==i.upper():\n",
    "        u=u+1\n",
    "    if i==i.lower():\n",
    "        l=l+1\n",
    "    if i=='@'or i=='$' or i=='_' :\n",
    "        s=s+1   \n",
    "    if type(i)==int:\n",
    "        d=d+1\n",
    "if (l>=2 and u>=2 and s==3 and d>=1 and l+u+s+d>=10):\n",
    "    print(\"Valid Password\")\n",
    "else:\n",
    "    print(\"Invalid Password\")"
   ]
  },
  {
   "cell_type": "code",
   "execution_count": 16,
   "id": "ad4c313e-12ca-4b18-a247-12d2315552d6",
   "metadata": {},
   "outputs": [
    {
     "name": "stdin",
     "output_type": "stream",
     "text": [
      "Enter the string: siiiing\n"
     ]
    },
    {
     "data": {
      "text/plain": [
       "[1]"
      ]
     },
     "execution_count": 16,
     "metadata": {},
     "output_type": "execute_result"
    }
   ],
   "source": [
    "\"\"\"Solve the below-given questions using at least one of the following: \n",
    "\n",
    "1. Lambda function.\n",
    "2. Filter function.\n",
    "3. Map function.\n",
    "4. List Comprehension.\"\"\"\n",
    "\n",
    "# Check if the string starts with a particular letter.\n",
    "\n",
    "string =input(\"Enter the string:\")\n",
    "[1 for i in string if i[0]=='s']"
   ]
  },
  {
   "cell_type": "code",
   "execution_count": 23,
   "id": "e4e31be5-ae1c-4d80-948e-e9ac59edb265",
   "metadata": {},
   "outputs": [],
   "source": [
    "# Check if the string is numeric.\n",
    "\n",
    "m=lambda string : string.isnumeric()"
   ]
  },
  {
   "cell_type": "code",
   "execution_count": 25,
   "id": "c790fb49-f039-4900-85f8-eff2fb6387c5",
   "metadata": {},
   "outputs": [
    {
     "data": {
      "text/plain": [
       "False"
      ]
     },
     "execution_count": 25,
     "metadata": {},
     "output_type": "execute_result"
    }
   ],
   "source": [
    "m(\"123msbh\")"
   ]
  },
  {
   "cell_type": "code",
   "execution_count": 27,
   "id": "0a176c58-27bd-4bb0-8ce6-3c18552c3f73",
   "metadata": {},
   "outputs": [
    {
     "data": {
      "text/plain": [
       "True"
      ]
     },
     "execution_count": 27,
     "metadata": {},
     "output_type": "execute_result"
    }
   ],
   "source": [
    "m(\"223\")"
   ]
  },
  {
   "cell_type": "code",
   "execution_count": 28,
   "id": "61a4be08-7092-4f46-8c19-fd7be6e9022a",
   "metadata": {},
   "outputs": [
    {
     "data": {
      "text/plain": [
       "[('orange', 80), ('mango', 99), ('grapes', 1000)]"
      ]
     },
     "execution_count": 28,
     "metadata": {},
     "output_type": "execute_result"
    }
   ],
   "source": [
    "# Sort a list of tuples having fruit names and their quantity. [(\"mango\",99),(\"orange\",80), (\"grapes\", 1000)]\n",
    "\n",
    "l= [(\"mango\",99),(\"orange\",80), (\"grapes\", 1000)]\n",
    "sorted(l,key=lambda x: x[1])"
   ]
  },
  {
   "cell_type": "code",
   "execution_count": 30,
   "id": "d79a2c6e-da1b-495d-810f-ac9966a904dc",
   "metadata": {},
   "outputs": [
    {
     "data": {
      "text/plain": [
       "[1, 4, 9, 16, 25, 36, 49, 64, 81, 100]"
      ]
     },
     "execution_count": 30,
     "metadata": {},
     "output_type": "execute_result"
    }
   ],
   "source": [
    "# Find the squares of numbers from 1 to 10.\n",
    "\n",
    "[i**2 for i in range(1,11)]"
   ]
  },
  {
   "cell_type": "code",
   "execution_count": 31,
   "id": "00b1c0fc-dae0-4bf6-b470-c43abd151f00",
   "metadata": {},
   "outputs": [
    {
     "data": {
      "text/plain": [
       "[1, 8, 27, 64, 125, 216, 343, 512, 729, 1000]"
      ]
     },
     "execution_count": 31,
     "metadata": {},
     "output_type": "execute_result"
    }
   ],
   "source": [
    "# Find the cube root of numbers from 1 to 10.\n",
    "\n",
    "[i*i*i for i in range(1,11)]"
   ]
  },
  {
   "cell_type": "code",
   "execution_count": 36,
   "id": "996e8ee3-d6bf-407a-bd81-8ee53891f85e",
   "metadata": {},
   "outputs": [
    {
     "name": "stdin",
     "output_type": "stream",
     "text": [
      "Enter the number 24\n"
     ]
    },
    {
     "data": {
      "text/plain": [
       "[True]"
      ]
     },
     "execution_count": 36,
     "metadata": {},
     "output_type": "execute_result"
    }
   ],
   "source": [
    "# Check if a given number is even.\n",
    "\n",
    "a=int(input(\"Enter the number\"))\n",
    "[True if a%2==0 else False]"
   ]
  },
  {
   "cell_type": "code",
   "execution_count": 37,
   "id": "33076360-24c5-4034-b767-436c58b6f6e4",
   "metadata": {},
   "outputs": [
    {
     "data": {
      "text/plain": [
       "[3, 6, 9]"
      ]
     },
     "execution_count": 37,
     "metadata": {},
     "output_type": "execute_result"
    }
   ],
   "source": [
    "# Filter odd numbers from the given list.\n",
    "\n",
    "l=[1,2,3,4,5,6,7,8,9,10]\n",
    "[ i for i in l if i%3==0]"
   ]
  },
  {
   "cell_type": "code",
   "execution_count": 38,
   "id": "ab99842d-dbe1-4b6f-a021-94c90a84f811",
   "metadata": {},
   "outputs": [
    {
     "ename": "SyntaxError",
     "evalue": "invalid syntax (1855064630.py, line 6)",
     "output_type": "error",
     "traceback": [
      "\u001b[0;36m  Cell \u001b[0;32mIn [38], line 6\u001b[0;36m\u001b[0m\n\u001b[0;31m    l1[ i for i in l if i>=0]\u001b[0m\n\u001b[0m          ^\u001b[0m\n\u001b[0;31mSyntaxError\u001b[0m\u001b[0;31m:\u001b[0m invalid syntax\n"
     ]
    }
   ],
   "source": [
    "# Sort a list of integers into positive and negative integers lists.\n",
    "\n",
    "l=[1,2,3,4,5,6,-1,-2,-3,-4,-5,0]\n",
    "l1=[]\n",
    "l2=[]\n",
    "neg_nos = [num for num in list1 if num < 0]\n",
    " "
   ]
  },
  {
   "cell_type": "code",
   "execution_count": null,
   "id": "2556b031-bdcc-4fcd-a058-82ba13b28933",
   "metadata": {},
   "outputs": [],
   "source": []
  }
 ],
 "metadata": {
  "kernelspec": {
   "display_name": "Python 3 (ipykernel)",
   "language": "python",
   "name": "python3"
  },
  "language_info": {
   "codemirror_mode": {
    "name": "ipython",
    "version": 3
   },
   "file_extension": ".py",
   "mimetype": "text/x-python",
   "name": "python",
   "nbconvert_exporter": "python",
   "pygments_lexer": "ipython3",
   "version": "3.10.6"
  }
 },
 "nbformat": 4,
 "nbformat_minor": 5
}
