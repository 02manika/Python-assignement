{
 "cells": [
  {
   "cell_type": "code",
   "execution_count": 1,
   "id": "a69b9315-e734-4d86-aa1c-dac3cb3a698b",
   "metadata": {},
   "outputs": [
    {
     "name": "stdout",
     "output_type": "stream",
     "text": [
      "0\n",
      "1\n",
      "2\n",
      "3\n",
      "4\n",
      "5\n",
      "6\n",
      "7\n",
      "8\n",
      "9\n"
     ]
    }
   ],
   "source": [
    "# for loop is used when number of iterations are known \n",
    "for i in range(0,10):\n",
    "    print(i)"
   ]
  },
  {
   "cell_type": "code",
   "execution_count": 2,
   "id": "a1384ea2-3ded-4920-b22e-37c4f863aeae",
   "metadata": {},
   "outputs": [
    {
     "name": "stdout",
     "output_type": "stream",
     "text": [
      "9\n",
      "8\n",
      "7\n",
      "6\n",
      "5\n",
      "4\n",
      "3\n",
      "2\n",
      "1\n"
     ]
    }
   ],
   "source": [
    "# while loop is used when numer of iterations are not defined and is executed until condition becomes false \n",
    "i=10\n",
    "while i>1:\n",
    "    i-=1\n",
    "    print(i)"
   ]
  },
  {
   "cell_type": "code",
   "execution_count": 3,
   "id": "2bc020f1-0bd4-4fcd-a205-ce22519a3d08",
   "metadata": {},
   "outputs": [
    {
     "data": {
      "text/plain": [
       "55"
      ]
     },
     "execution_count": 3,
     "metadata": {},
     "output_type": "execute_result"
    }
   ],
   "source": [
    "result=0            #SUM OF FIRST 10 NATURAL NUMBERS USING FOR LOOP\n",
    "for i in range(1,11):\n",
    "    result=result+i\n",
    "result"
   ]
  },
  {
   "cell_type": "code",
   "execution_count": 5,
   "id": "dfdc9a02-adcb-46f9-bee1-1aa032714bcb",
   "metadata": {},
   "outputs": [
    {
     "data": {
      "text/plain": [
       "3628800"
      ]
     },
     "execution_count": 5,
     "metadata": {},
     "output_type": "execute_result"
    }
   ],
   "source": [
    "product=1              #PRODUCT OF FIRST 10 NATURAL NUMBERS USING FOR LOOP\n",
    "for i in range(1,11):\n",
    "    product=product*i\n",
    "product"
   ]
  },
  {
   "cell_type": "code",
   "execution_count": 6,
   "id": "88de121c-d475-4119-b914-767bb7748d5a",
   "metadata": {},
   "outputs": [
    {
     "name": "stdout",
     "output_type": "stream",
     "text": [
      "55\n"
     ]
    }
   ],
   "source": [
    "i=1          #SUM OF FIRST 10 NATURAL NUMBERS USING WHILE LOOP\n",
    "result=0\n",
    "while i<=10:\n",
    "    result=result+i\n",
    "    i+=1\n",
    "print(result)"
   ]
  },
  {
   "cell_type": "code",
   "execution_count": 7,
   "id": "c4866051-bd79-4f96-82ac-8360d07edb08",
   "metadata": {},
   "outputs": [
    {
     "name": "stdout",
     "output_type": "stream",
     "text": [
      "3628800\n"
     ]
    }
   ],
   "source": [
    "i=1          #PRODUCT OF FIRST 10 NATURAL NUMBERS USING WHILE LOOP\n",
    "result=1\n",
    "while i<=10:\n",
    "    result=result*i\n",
    "    i+=1\n",
    "print(result)"
   ]
  },
  {
   "cell_type": "code",
   "execution_count": 1,
   "id": "a782e743-b8ab-4090-98e0-8e4a8964f6ad",
   "metadata": {},
   "outputs": [
    {
     "name": "stdin",
     "output_type": "stream",
     "text": [
      "Enter the units of electricity:  310\n"
     ]
    },
    {
     "name": "stdout",
     "output_type": "stream",
     "text": [
      "2250\n"
     ]
    }
   ],
   "source": [
    "result=0\n",
    "units=int(input(\"Enter the units of electricity: \"))\n",
    "\n",
    "if units<=100:\n",
    "    result= units*4.5\n",
    "    \n",
    "elif units<=200:\n",
    "    result=(100*4.5)+(units-100)*6\n",
    "    \n",
    "elif units<=300:\n",
    "    result=(100*4.5)+(100*6)+(units-200)*10\n",
    "\n",
    "else:\n",
    "    result=(100*4.5)+(100*6)+(100*10)+(units-300)*20\n",
    "    \n",
    "print(int(result))"
   ]
  },
  {
   "cell_type": "code",
   "execution_count": 2,
   "id": "91f70a52-1fec-4038-8b13-f1577829a03d",
   "metadata": {},
   "outputs": [],
   "source": [
    "m=1             #LIST USING FOR LOOP\n",
    "l1=[]\n",
    "for i in range(1,101,1):\n",
    "    m=i*i*i\n",
    "    if m%4==0 or m%5==0:\n",
    "        l1.append(m)"
   ]
  },
  {
   "cell_type": "code",
   "execution_count": 3,
   "id": "c2d7cb8a-c348-4455-8b45-ae393aa08bbc",
   "metadata": {},
   "outputs": [
    {
     "data": {
      "text/plain": [
       "[8,\n",
       " 64,\n",
       " 125,\n",
       " 216,\n",
       " 512,\n",
       " 1000,\n",
       " 1728,\n",
       " 2744,\n",
       " 3375,\n",
       " 4096,\n",
       " 5832,\n",
       " 8000,\n",
       " 10648,\n",
       " 13824,\n",
       " 15625,\n",
       " 17576,\n",
       " 21952,\n",
       " 27000,\n",
       " 32768,\n",
       " 39304,\n",
       " 42875,\n",
       " 46656,\n",
       " 54872,\n",
       " 64000,\n",
       " 74088,\n",
       " 85184,\n",
       " 91125,\n",
       " 97336,\n",
       " 110592,\n",
       " 125000,\n",
       " 140608,\n",
       " 157464,\n",
       " 166375,\n",
       " 175616,\n",
       " 195112,\n",
       " 216000,\n",
       " 238328,\n",
       " 262144,\n",
       " 274625,\n",
       " 287496,\n",
       " 314432,\n",
       " 343000,\n",
       " 373248,\n",
       " 405224,\n",
       " 421875,\n",
       " 438976,\n",
       " 474552,\n",
       " 512000,\n",
       " 551368,\n",
       " 592704,\n",
       " 614125,\n",
       " 636056,\n",
       " 681472,\n",
       " 729000,\n",
       " 778688,\n",
       " 830584,\n",
       " 857375,\n",
       " 884736,\n",
       " 941192,\n",
       " 1000000]"
      ]
     },
     "execution_count": 3,
     "metadata": {},
     "output_type": "execute_result"
    }
   ],
   "source": [
    "l1"
   ]
  },
  {
   "cell_type": "code",
   "execution_count": 4,
   "id": "fe35df7a-f449-4150-9dbc-6b9285b4d487",
   "metadata": {},
   "outputs": [],
   "source": [
    "m=1              #LIST USING WHILE LOOP\n",
    "l1=[]\n",
    "i=1\n",
    "while i<=100:\n",
    "    m=i*i*i\n",
    "    i+=1\n",
    "    if m%4==0 or m%5==0:\n",
    "        l1.append(m)"
   ]
  },
  {
   "cell_type": "code",
   "execution_count": 5,
   "id": "2dc2f54d-45b7-419b-b98e-33d03aa25d36",
   "metadata": {},
   "outputs": [
    {
     "data": {
      "text/plain": [
       "[8,\n",
       " 64,\n",
       " 125,\n",
       " 216,\n",
       " 512,\n",
       " 1000,\n",
       " 1728,\n",
       " 2744,\n",
       " 3375,\n",
       " 4096,\n",
       " 5832,\n",
       " 8000,\n",
       " 10648,\n",
       " 13824,\n",
       " 15625,\n",
       " 17576,\n",
       " 21952,\n",
       " 27000,\n",
       " 32768,\n",
       " 39304,\n",
       " 42875,\n",
       " 46656,\n",
       " 54872,\n",
       " 64000,\n",
       " 74088,\n",
       " 85184,\n",
       " 91125,\n",
       " 97336,\n",
       " 110592,\n",
       " 125000,\n",
       " 140608,\n",
       " 157464,\n",
       " 166375,\n",
       " 175616,\n",
       " 195112,\n",
       " 216000,\n",
       " 238328,\n",
       " 262144,\n",
       " 274625,\n",
       " 287496,\n",
       " 314432,\n",
       " 343000,\n",
       " 373248,\n",
       " 405224,\n",
       " 421875,\n",
       " 438976,\n",
       " 474552,\n",
       " 512000,\n",
       " 551368,\n",
       " 592704,\n",
       " 614125,\n",
       " 636056,\n",
       " 681472,\n",
       " 729000,\n",
       " 778688,\n",
       " 830584,\n",
       " 857375,\n",
       " 884736,\n",
       " 941192,\n",
       " 1000000]"
      ]
     },
     "execution_count": 5,
     "metadata": {},
     "output_type": "execute_result"
    }
   ],
   "source": [
    "l1"
   ]
  },
  {
   "cell_type": "code",
   "execution_count": 4,
   "id": "028ac509-2425-41a8-a43e-82e94146cb97",
   "metadata": {},
   "outputs": [
    {
     "name": "stdout",
     "output_type": "stream",
     "text": [
      "11\n"
     ]
    }
   ],
   "source": [
    "string=\"I want to become a data scientist\"\n",
    "count=0\n",
    "for i in string:\n",
    "    if i=='a' or i=='e' or i=='i' or i=='o' or i=='u':\n",
    "        count+=1\n",
    "    else:\n",
    "        count+=0\n",
    "print(count)"
   ]
  },
  {
   "cell_type": "code",
   "execution_count": null,
   "id": "47ff239d-d45e-484a-aade-7b0d4bfa6d53",
   "metadata": {},
   "outputs": [],
   "source": []
  }
 ],
 "metadata": {
  "kernelspec": {
   "display_name": "Python 3 (ipykernel)",
   "language": "python",
   "name": "python3"
  },
  "language_info": {
   "codemirror_mode": {
    "name": "ipython",
    "version": 3
   },
   "file_extension": ".py",
   "mimetype": "text/x-python",
   "name": "python",
   "nbconvert_exporter": "python",
   "pygments_lexer": "ipython3",
   "version": "3.10.6"
  }
 },
 "nbformat": 4,
 "nbformat_minor": 5
}
