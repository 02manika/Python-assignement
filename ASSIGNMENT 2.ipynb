{
 "cells": [
  {
   "cell_type": "code",
   "execution_count": 1,
   "id": "6cace641-2ccb-4302-8f26-a72cc36fd125",
   "metadata": {},
   "outputs": [
    {
     "name": "stdin",
     "output_type": "stream",
     "text": [
      "Enter the percentage: 84\n"
     ]
    },
    {
     "name": "stdout",
     "output_type": "stream",
     "text": [
      "B\n"
     ]
    }
   ],
   "source": [
    "p = int(input(\"Enter the percentage:\"))         #1\n",
    "if p>90:\n",
    "  print(\"A\")\n",
    "elif p>80 or p<=90 :\n",
    "  print(\"B\")\n",
    "elif p>=60 or p<=80 :\n",
    "   print(\"C\")\n",
    "else:\n",
    "   print(\"D\")"
   ]
  },
  {
   "cell_type": "code",
   "execution_count": 3,
   "id": "ca9cfefb-d141-4087-8807-0cca497b5e69",
   "metadata": {},
   "outputs": [
    {
     "name": "stdin",
     "output_type": "stream",
     "text": [
      "Enter the cost price: 55000\n"
     ]
    },
    {
     "name": "stdout",
     "output_type": "stream",
     "text": [
      "10%\n"
     ]
    }
   ],
   "source": [
    "cp = int(input(\"Enter the cost price:\"))       #2\n",
    "if cp>100000 :\n",
    "    print(\"15%\")\n",
    "elif cp>50000 or cp<=100000 :\n",
    "     print(\"10%\")\n",
    "else :\n",
    "    print(\"5%\")"
   ]
  },
  {
   "cell_type": "code",
   "execution_count": 4,
   "id": "f9cc738a-e3ae-4b49-b996-270e7920298d",
   "metadata": {},
   "outputs": [
    {
     "name": "stdin",
     "output_type": "stream",
     "text": [
      "Enter the cityout of Delhi , Agra , Jaipur: Agra\n"
     ]
    },
    {
     "name": "stdout",
     "output_type": "stream",
     "text": [
      "Taj Mahal\n"
     ]
    }
   ],
   "source": [
    "city = input(\"Enter the city out of Delhi , Agra , Jaipur:\")        #3\n",
    "if city==\" Delhi\":\n",
    "   print(\"Red Fort\")\n",
    "elif city==\"Agra\":\n",
    "   print(\"Taj Mahal\")\n",
    "elif city==\"Jaipur\":\n",
    "    print(\"Jal Mahal\")"
   ]
  },
  {
   "cell_type": "code",
   "execution_count": 3,
   "id": "739a35b6-adbb-42ab-b5b8-456e231d9459",
   "metadata": {},
   "outputs": [
    {
     "name": "stdin",
     "output_type": "stream",
     "text": [
      "Enter the number: 99\n"
     ]
    },
    {
     "name": "stdout",
     "output_type": "stream",
     "text": [
      "2\n"
     ]
    }
   ],
   "source": [
    "num=int(input(\"Enter the number:\"))        #4\n",
    "count=0\n",
    "while num%3==0 :\n",
    "    quot=num/3\n",
    "    if quot>=10 :\n",
    "      count=count+1\n",
    "    num=quot\n",
    "print(count)"
   ]
  },
  {
   "cell_type": "code",
   "execution_count": null,
   "id": "3297a1f2-f2e3-45d1-9d70-fcd84306e6bd",
   "metadata": {},
   "outputs": [],
   "source": [
    "While loop is used to run the code  , until it meet a certain condition .        #5\n",
    "If condition is true then the while loop statement is evaluated . \n",
    "Example:\n",
    "num=int(input(\"Enter the number:\"))\n",
    "count=0\n",
    "while num%3==0 :\n",
    "    quot=num/3\n",
    "    if quot>=10 :\n",
    "      count=count+1\n",
    "    num=quot\n",
    "print(count)"
   ]
  },
  {
   "cell_type": "code",
   "execution_count": 1,
   "id": "a104d54f-c29d-46da-afe5-977e6762718b",
   "metadata": {},
   "outputs": [
    {
     "name": "stdout",
     "output_type": "stream",
     "text": [
      "1 \n",
      "3 3 \n",
      "5 5 5 \n",
      "7 7 7 7 \n",
      "9 9 9 9 9 \n",
      "11 11 11 11 11 11 \n"
     ]
    }
   ],
   "source": [
    "rows = 6        #6\n",
    "i = 1\n",
    "while i <= rows:\n",
    "    j = 1\n",
    "    while j <= i:\n",
    "        print((i * 2 - 1), end=\" \")\n",
    "        j = j + 1\n",
    "    i = i + 1\n",
    "    print('')"
   ]
  },
  {
   "cell_type": "code",
   "execution_count": 3,
   "id": "e5688e43-fff6-4c49-b6f9-91997293093a",
   "metadata": {},
   "outputs": [
    {
     "name": "stdout",
     "output_type": "stream",
     "text": [
      "* \n",
      "* * \n",
      "* * * \n",
      "* * * * \n",
      "* * * * * \n",
      "* * * * * * \n"
     ]
    }
   ],
   "source": [
    "rows = 6        #6\n",
    "i = 1\n",
    "while i <= rows:\n",
    "    j = 1\n",
    "    while j <= i:\n",
    "        print(('*'), end=\" \")\n",
    "        j = j + 1\n",
    "    i = i + 1\n",
    "    print('')"
   ]
  },
  {
   "cell_type": "code",
   "execution_count": null,
   "id": "de175ee4-19a1-43e2-93a2-2a47a3de1f8e",
   "metadata": {},
   "outputs": [],
   "source": [
    "rows = 6        #6\n",
    "i = 1\n",
    "while i <= rows:\n",
    "    j = 1\n",
    "    while j > i:\n",
    "        print(('*'), end=\" \")\n",
    "        j = j - 1\n",
    "    i = i -j\n",
    "    print('*')"
   ]
  },
  {
   "cell_type": "code",
   "execution_count": null,
   "id": "2cd1d8fd-624c-4a66-b1c1-d03c5d11ab9b",
   "metadata": {},
   "outputs": [],
   "source": [
    "i=10\n",
    "while i>=1 :\n",
    "    print(i)\n",
    "    i=i-1"
   ]
  },
  {
   "cell_type": "code",
   "execution_count": null,
   "id": "1da8af8c-bed2-484d-9829-4618bcc6fc03",
   "metadata": {},
   "outputs": [],
   "source": []
  }
 ],
 "metadata": {
  "kernelspec": {
   "display_name": "Python 3 (ipykernel)",
   "language": "python",
   "name": "python3"
  },
  "language_info": {
   "codemirror_mode": {
    "name": "ipython",
    "version": 3
   },
   "file_extension": ".py",
   "mimetype": "text/x-python",
   "name": "python",
   "nbconvert_exporter": "python",
   "pygments_lexer": "ipython3",
   "version": "3.10.8"
  }
 },
 "nbformat": 4,
 "nbformat_minor": 5
}
